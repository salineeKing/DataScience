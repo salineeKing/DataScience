{
 "cells": [
  {
   "cell_type": "markdown",
   "metadata": {},
   "source": [
    "# Lesson 6 Assignment - Advertising Sales Regression\n",
    "## Author - Salinee Kingbaisomboon\n",
    "### UW NetID: 1950831"
   ]
  },
  {
   "cell_type": "markdown",
   "metadata": {},
   "source": [
    "### Instructions  \n",
    "Perform four different linear regressions on advertising sales data located in 'Advertising.csv'.  Your dependent feature is 'sales', a measure of sales of a product in a given market in thousands of dollars. \n",
    "\n",
    "The independent features for each of the first 3 separate regressions are:\n",
    "\n",
    " 1. 'TV': advertising dollars spent on TV ads for a single product in a given market\n",
    " 2. 'radio': advertising dollars spent on radio ads\n",
    " 3. 'newspaper': advertising dollars spent on newspaper ads\n",
    "\n",
    "For the first 3 linear regression performed:\n",
    "\n",
    "- Produce a labeled graph showing the best fit line with the data points.\n",
    "- Interpret both the slope and y-intercept.\n",
    " \n",
    "The final regression(#4) includes all 3 features: (a) TV, (b) radio, and (c) newspaper. \n",
    "- Interpret each partial slope and the intercept parameters.\n",
    "- Interpret the adjusted R-squared.\n",
    "- Find and report the mean-squared error.\n",
    "\n",
    "#### Please prepare this information for a client who may not understand what the parameters mean.\n"
   ]
  },
  {
   "cell_type": "code",
   "execution_count": 45,
   "metadata": {},
   "outputs": [],
   "source": [
    "# Import libraries\n",
    "import numpy as np\n",
    "import pandas as pd\n",
    "from IPython.display import display\n",
    "import matplotlib.pyplot as plt\n",
    "from sklearn import linear_model\n",
    "from sklearn.metrics import mean_squared_error, r2_score\n",
    "import statsmodels.formula.api as sm\n",
    "import seaborn as sns\n",
    "\n",
    "import warnings\n",
    "\n",
    "warnings.filterwarnings(\"ignore\") # To suppress warning\n",
    "\n",
    "%matplotlib inline"
   ]
  },
  {
   "cell_type": "markdown",
   "metadata": {
    "collapsed": true
   },
   "source": [
    "# Declare Functions used in this assignment"
   ]
  },
  {
   "cell_type": "code",
   "execution_count": 8,
   "metadata": {},
   "outputs": [],
   "source": [
    "# Create a scale function for a column in a pandas df\n",
    "def scale(col):\n",
    "    mean_col = np.mean(col)\n",
    "    sd_col = np.std(col)\n",
    "    std = (col - mean_col) / sd_col\n",
    "    return std"
   ]
  },
  {
   "cell_type": "code",
   "execution_count": 22,
   "metadata": {},
   "outputs": [],
   "source": [
    "# Function to plot the Linear Regression Model's graph\n",
    "def plot_linear_regression_model(data, x_column, y_column):\n",
    "    # First initialize the model.\n",
    "    model = linear_model.LinearRegression()\n",
    "    \n",
    "    # Fit the model to the data\n",
    "    n_points = len(data)\n",
    "    x_input = data[x_column].values.reshape(n_points, 1)\n",
    "    y_output = data[y_column].values.reshape(n_points, 1)\n",
    "    \n",
    "    model.fit(x_input, y_output)\n",
    "    \n",
    "    # Get predictions\n",
    "    y_pred = model.predict(x_input)\n",
    "\n",
    "    # Plot output\n",
    "    plt.scatter(x_input, y_output)\n",
    "    plt.plot(x_input, y_pred, linewidth=2)\n",
    "    plt.grid(True)\n",
    "    plt.xlabel(x_column)\n",
    "    plt.ylabel(y_column)\n",
    "    plt.title(x_column + ' vs' + y_column)\n",
    "    \n",
    "    # Print model parameters\n",
    "    # Get slope (m) and y-intercept (b)\n",
    "    print('Intercept: {0:.5f}'.format(model.intercept_[0]))\n",
    "    print('Slope : {0:.5f}'.format(model.coef_[0][0]))"
   ]
  },
  {
   "cell_type": "code",
   "execution_count": 70,
   "metadata": {},
   "outputs": [],
   "source": [
    "# Function to compute the Linear Regression Statistic\n",
    "def compute_linear_regression_statistic(data, formula, y_column):\n",
    "    # Fit the model to the data\n",
    "    n_points = len(data)\n",
    "    y_output = data[y_column].values.reshape(n_points, 1)\n",
    "    \n",
    "    ols_model = sm.ols(formula = formula, data=data)\n",
    "    \n",
    "    results = ols_model.fit()\n",
    "    y_pred = results.predict()\n",
    "    \n",
    "    data['predicted'] = y_pred\n",
    "    \n",
    "    string = '               View Y predict based on all input features:'\n",
    "    print(f'\\033[92m\\033[1m{string}\\033[0m')\n",
    "    display(data)\n",
    "    \n",
    "    print('\\nSSE, SST, SSR, and RMSE:')\n",
    "    mean_y = np.mean(y_output)\n",
    "    sst = np.sum((y_output - mean_y)**2)\n",
    "    sse = sst - results.ssr\n",
    "    print('SSE: {}'.format(sse))\n",
    "    print('SST: {}'.format(sst))\n",
    "    print('SSR: {}'.format(results.ssr))\n",
    "    print('RMSE: {}'.format(np.sqrt(results.mse_model)))\n",
    "    \n",
    "    # Get most of the linear regression statistics we are interested in:\n",
    "    print(results.summary())\n",
    "    \n",
    "    # Plot a histogram of the residuals\n",
    "    sns.distplot(results.resid, hist=True)\n",
    "    plt.xlabel('Residual')\n",
    "    plt.ylabel('Frequency')\n",
    "    plt.title('Residual Histogram')"
   ]
  },
  {
   "cell_type": "code",
   "execution_count": 11,
   "metadata": {},
   "outputs": [
    {
     "name": "stdout",
     "output_type": "stream",
     "text": [
      "      TV  radio  newspaper  sales  TV_scale  radio_scale  newspaper_scale\n",
      "1  230.1   37.8       69.2   22.1  0.969852     0.981522         1.778945\n",
      "2   44.5   39.3       45.1   10.4 -1.197376     1.082808         0.669579\n",
      "3   17.2   45.9       69.3    9.3 -1.516155     1.528463         1.783549\n",
      "4  151.5   41.3       58.5   18.5  0.052050     1.217855         1.286405\n",
      "5  180.8   10.8       58.4   12.9  0.394182    -0.841614         1.281802\n",
      "(200, 7)\n"
     ]
    },
    {
     "data": {
      "text/html": [
       "<div>\n",
       "<style scoped>\n",
       "    .dataframe tbody tr th:only-of-type {\n",
       "        vertical-align: middle;\n",
       "    }\n",
       "\n",
       "    .dataframe tbody tr th {\n",
       "        vertical-align: top;\n",
       "    }\n",
       "\n",
       "    .dataframe thead th {\n",
       "        text-align: right;\n",
       "    }\n",
       "</style>\n",
       "<table border=\"1\" class=\"dataframe\">\n",
       "  <thead>\n",
       "    <tr style=\"text-align: right;\">\n",
       "      <th></th>\n",
       "      <th>TV</th>\n",
       "      <th>radio</th>\n",
       "      <th>newspaper</th>\n",
       "      <th>sales</th>\n",
       "      <th>TV_scale</th>\n",
       "      <th>radio_scale</th>\n",
       "      <th>newspaper_scale</th>\n",
       "    </tr>\n",
       "  </thead>\n",
       "  <tbody>\n",
       "    <tr>\n",
       "      <th>count</th>\n",
       "      <td>200.000000</td>\n",
       "      <td>200.000000</td>\n",
       "      <td>200.000000</td>\n",
       "      <td>200.000000</td>\n",
       "      <td>2.000000e+02</td>\n",
       "      <td>2.000000e+02</td>\n",
       "      <td>2.000000e+02</td>\n",
       "    </tr>\n",
       "    <tr>\n",
       "      <th>mean</th>\n",
       "      <td>147.042500</td>\n",
       "      <td>23.264000</td>\n",
       "      <td>30.554000</td>\n",
       "      <td>14.022500</td>\n",
       "      <td>1.121325e-16</td>\n",
       "      <td>-1.638689e-15</td>\n",
       "      <td>2.031708e-16</td>\n",
       "    </tr>\n",
       "    <tr>\n",
       "      <th>std</th>\n",
       "      <td>85.854236</td>\n",
       "      <td>14.846809</td>\n",
       "      <td>21.778621</td>\n",
       "      <td>5.217457</td>\n",
       "      <td>1.002509e+00</td>\n",
       "      <td>1.002509e+00</td>\n",
       "      <td>1.002509e+00</td>\n",
       "    </tr>\n",
       "    <tr>\n",
       "      <th>min</th>\n",
       "      <td>0.700000</td>\n",
       "      <td>0.000000</td>\n",
       "      <td>0.300000</td>\n",
       "      <td>1.600000</td>\n",
       "      <td>-1.708823e+00</td>\n",
       "      <td>-1.570868e+00</td>\n",
       "      <td>-1.392646e+00</td>\n",
       "    </tr>\n",
       "    <tr>\n",
       "      <th>25%</th>\n",
       "      <td>74.375000</td>\n",
       "      <td>9.975000</td>\n",
       "      <td>12.750000</td>\n",
       "      <td>10.375000</td>\n",
       "      <td>-8.485295e-01</td>\n",
       "      <td>-8.973206e-01</td>\n",
       "      <td>-8.195504e-01</td>\n",
       "    </tr>\n",
       "    <tr>\n",
       "      <th>50%</th>\n",
       "      <td>149.750000</td>\n",
       "      <td>22.900000</td>\n",
       "      <td>25.750000</td>\n",
       "      <td>12.900000</td>\n",
       "      <td>3.161515e-02</td>\n",
       "      <td>-2.457858e-02</td>\n",
       "      <td>-2.211368e-01</td>\n",
       "    </tr>\n",
       "    <tr>\n",
       "      <th>75%</th>\n",
       "      <td>218.825000</td>\n",
       "      <td>36.525000</td>\n",
       "      <td>45.100000</td>\n",
       "      <td>17.400000</td>\n",
       "      <td>8.381955e-01</td>\n",
       "      <td>8.954299e-01</td>\n",
       "      <td>6.695788e-01</td>\n",
       "    </tr>\n",
       "    <tr>\n",
       "      <th>max</th>\n",
       "      <td>296.400000</td>\n",
       "      <td>49.600000</td>\n",
       "      <td>114.000000</td>\n",
       "      <td>27.000000</td>\n",
       "      <td>1.744029e+00</td>\n",
       "      <td>1.778300e+00</td>\n",
       "      <td>3.841171e+00</td>\n",
       "    </tr>\n",
       "  </tbody>\n",
       "</table>\n",
       "</div>"
      ],
      "text/plain": [
       "               TV       radio   newspaper       sales      TV_scale  \\\n",
       "count  200.000000  200.000000  200.000000  200.000000  2.000000e+02   \n",
       "mean   147.042500   23.264000   30.554000   14.022500  1.121325e-16   \n",
       "std     85.854236   14.846809   21.778621    5.217457  1.002509e+00   \n",
       "min      0.700000    0.000000    0.300000    1.600000 -1.708823e+00   \n",
       "25%     74.375000    9.975000   12.750000   10.375000 -8.485295e-01   \n",
       "50%    149.750000   22.900000   25.750000   12.900000  3.161515e-02   \n",
       "75%    218.825000   36.525000   45.100000   17.400000  8.381955e-01   \n",
       "max    296.400000   49.600000  114.000000   27.000000  1.744029e+00   \n",
       "\n",
       "        radio_scale  newspaper_scale  \n",
       "count  2.000000e+02     2.000000e+02  \n",
       "mean  -1.638689e-15     2.031708e-16  \n",
       "std    1.002509e+00     1.002509e+00  \n",
       "min   -1.570868e+00    -1.392646e+00  \n",
       "25%   -8.973206e-01    -8.195504e-01  \n",
       "50%   -2.457858e-02    -2.211368e-01  \n",
       "75%    8.954299e-01     6.695788e-01  \n",
       "max    1.778300e+00     3.841171e+00  "
      ]
     },
     "execution_count": 11,
     "metadata": {},
     "output_type": "execute_result"
    }
   ],
   "source": [
    "# Load data\n",
    "filename = 'https://library.startlearninglabs.uw.edu/DATASCI410/Datasets/Advertising.csv'\n",
    "ad_data = pd.read_csv(filename, index_col=0)\n",
    "\n",
    "# Scale the features or independent variables (the most common practice)\n",
    "ad_data['TV_scale'] = scale(ad_data['TV'])\n",
    "ad_data['radio_scale'] = scale(ad_data['radio'])\n",
    "ad_data['newspaper_scale'] = scale(ad_data['newspaper'])\n",
    "\n",
    "print(ad_data.head())\n",
    "print(ad_data.shape)\n",
    "ad_data.describe()"
   ]
  },
  {
   "cell_type": "markdown",
   "metadata": {},
   "source": [
    "## 1. Linear Regression between Sales (dependent) and TV (independent)"
   ]
  },
  {
   "cell_type": "code",
   "execution_count": 72,
   "metadata": {},
   "outputs": [
    {
     "name": "stdout",
     "output_type": "stream",
     "text": [
      "Intercept: 14.02250\n",
      "Slope : 4.07101\n"
     ]
    },
    {
     "data": {
      "image/png": "[encoded data removed]",
      "text/plain": [
       "<Figure size 432x288 with 1 Axes>"
      ]
     },
     "metadata": {
      "needs_background": "light"
     },
     "output_type": "display_data"
    }
   ],
   "source": [
    "plot_linear_regression_model(ad_data, 'TV_scale', 'sales')"
   ]
  },
  {
   "cell_type": "markdown",
   "metadata": {},
   "source": [
    "***\n",
    "### Examine result:\n",
    "**Y Intercept = 14.02250**:  When spends no money on TV ads  (zero), sales will be 14,022.50 dollars.\n",
    "    \n",
    "**Slope = 4.07101**:  When we spends money on TV ads by 1 dollar, then we expect that sales will go up by 4,071.01 dollars.\n",
    "\n",
    "**Based on the plot:** We found that the TV advertising has a strong positive effects on Sales. \n",
    "***"
   ]
  },
  {
   "cell_type": "markdown",
   "metadata": {},
   "source": [
    "## 2. Linear Regression between Sales (dependent) and Radio (independent)"
   ]
  },
  {
   "cell_type": "code",
   "execution_count": 28,
   "metadata": {},
   "outputs": [
    {
     "name": "stdout",
     "output_type": "stream",
     "text": [
      "Intercept: 14.02250\n",
      "Slope : 2.99889\n"
     ]
    },
    {
     "data": {
      "image/png": "[encoded data removed]",
      "text/plain": [
       "<Figure size 432x288 with 1 Axes>"
      ]
     },
     "metadata": {
      "needs_background": "light"
     },
     "output_type": "display_data"
    }
   ],
   "source": [
    "plot_linear_regression_model(ad_data, 'radio_scale', 'sales')"
   ]
  },
  {
   "cell_type": "markdown",
   "metadata": {},
   "source": [
    "***\n",
    "### Examine result:\n",
    "**Y Intercept = 14.02250**:  When spends no money on radio advertising (zero), sales will be 14,022.50 dollars.\n",
    "    \n",
    "**Slope = 2.99889**:  When we spends money on radio advertising by 1 dollar, then we expect that sales will go up by 2,998.89 dollars.\n",
    "\n",
    "**Based on the plot:** We found that the radio advertising has medium positive effects on Sales (compared with TV ads since the slope of TV ads is greater). \n",
    "***"
   ]
  },
  {
   "cell_type": "markdown",
   "metadata": {},
   "source": [
    "## 3. Linear Regression between Sales (dependent) and Newspaper (independent)"
   ]
  },
  {
   "cell_type": "code",
   "execution_count": 29,
   "metadata": {},
   "outputs": [
    {
     "name": "stdout",
     "output_type": "stream",
     "text": [
      "Intercept: 14.02250\n",
      "Slope : 1.18816\n"
     ]
    },
    {
     "data": {
      "image/png": "[encoded data removed]",
      "text/plain": [
       "<Figure size 432x288 with 1 Axes>"
      ]
     },
     "metadata": {
      "needs_background": "light"
     },
     "output_type": "display_data"
    }
   ],
   "source": [
    "plot_linear_regression_model(ad_data, 'newspaper_scale', 'sales')"
   ]
  },
  {
   "cell_type": "markdown",
   "metadata": {},
   "source": [
    "***\n",
    "### Examine result:\n",
    "**Y Intercept = 14.02250**:  When spends no money on newspaper advertising (zero), sales will be 14,022.50 dollars.\n",
    "    \n",
    "**Slope = 1.18816**:  When we spends money on radio advertising by 1 dollar, then we expect that sales will go up by 1,188.16 dollars.\n",
    "\n",
    "**Based on the plot:** We found that the radio advertising has less positive effects on Sales (compared with TV and radio advertising since the slope is lesser). \n",
    "***"
   ]
  },
  {
   "cell_type": "markdown",
   "metadata": {},
   "source": [
    "## 4. Linear Regression between Sales (dependent) and All Three Features - TV, Radio, Newspaper (independent)"
   ]
  },
  {
   "cell_type": "code",
   "execution_count": 71,
   "metadata": {},
   "outputs": [
    {
     "name": "stdout",
     "output_type": "stream",
     "text": [
      "\u001b[92m\u001b[1m               View Y predict based on all input features:\u001b[0m\n"
     ]
    },
    {
     "data": {
      "text/html": [
       "<div>\n",
       "<style scoped>\n",
       "    .dataframe tbody tr th:only-of-type {\n",
       "        vertical-align: middle;\n",
       "    }\n",
       "\n",
       "    .dataframe tbody tr th {\n",
       "        vertical-align: top;\n",
       "    }\n",
       "\n",
       "    .dataframe thead th {\n",
       "        text-align: right;\n",
       "    }\n",
       "</style>\n",
       "<table border=\"1\" class=\"dataframe\">\n",
       "  <thead>\n",
       "    <tr style=\"text-align: right;\">\n",
       "      <th></th>\n",
       "      <th>TV</th>\n",
       "      <th>radio</th>\n",
       "      <th>newspaper</th>\n",
       "      <th>sales</th>\n",
       "      <th>TV_scale</th>\n",
       "      <th>radio_scale</th>\n",
       "      <th>newspaper_scale</th>\n",
       "      <th>predicted</th>\n",
       "    </tr>\n",
       "  </thead>\n",
       "  <tbody>\n",
       "    <tr>\n",
       "      <th>1</th>\n",
       "      <td>230.1</td>\n",
       "      <td>37.8</td>\n",
       "      <td>69.2</td>\n",
       "      <td>22.1</td>\n",
       "      <td>0.969852</td>\n",
       "      <td>0.981522</td>\n",
       "      <td>1.778945</td>\n",
       "      <td>20.523974</td>\n",
       "    </tr>\n",
       "    <tr>\n",
       "      <th>2</th>\n",
       "      <td>44.5</td>\n",
       "      <td>39.3</td>\n",
       "      <td>45.1</td>\n",
       "      <td>10.4</td>\n",
       "      <td>-1.197376</td>\n",
       "      <td>1.082808</td>\n",
       "      <td>0.669579</td>\n",
       "      <td>12.337855</td>\n",
       "    </tr>\n",
       "    <tr>\n",
       "      <th>3</th>\n",
       "      <td>17.2</td>\n",
       "      <td>45.9</td>\n",
       "      <td>69.3</td>\n",
       "      <td>9.3</td>\n",
       "      <td>-1.516155</td>\n",
       "      <td>1.528463</td>\n",
       "      <td>1.783549</td>\n",
       "      <td>12.307671</td>\n",
       "    </tr>\n",
       "    <tr>\n",
       "      <th>4</th>\n",
       "      <td>151.5</td>\n",
       "      <td>41.3</td>\n",
       "      <td>58.5</td>\n",
       "      <td>18.5</td>\n",
       "      <td>0.052050</td>\n",
       "      <td>1.217855</td>\n",
       "      <td>1.286405</td>\n",
       "      <td>17.597830</td>\n",
       "    </tr>\n",
       "    <tr>\n",
       "      <th>5</th>\n",
       "      <td>180.8</td>\n",
       "      <td>10.8</td>\n",
       "      <td>58.4</td>\n",
       "      <td>12.9</td>\n",
       "      <td>0.394182</td>\n",
       "      <td>-0.841614</td>\n",
       "      <td>1.281802</td>\n",
       "      <td>13.188672</td>\n",
       "    </tr>\n",
       "    <tr>\n",
       "      <th>...</th>\n",
       "      <td>...</td>\n",
       "      <td>...</td>\n",
       "      <td>...</td>\n",
       "      <td>...</td>\n",
       "      <td>...</td>\n",
       "      <td>...</td>\n",
       "      <td>...</td>\n",
       "      <td>...</td>\n",
       "    </tr>\n",
       "    <tr>\n",
       "      <th>196</th>\n",
       "      <td>38.2</td>\n",
       "      <td>3.7</td>\n",
       "      <td>13.8</td>\n",
       "      <td>7.6</td>\n",
       "      <td>-1.270941</td>\n",
       "      <td>-1.321031</td>\n",
       "      <td>-0.771217</td>\n",
       "      <td>5.370342</td>\n",
       "    </tr>\n",
       "    <tr>\n",
       "      <th>197</th>\n",
       "      <td>94.2</td>\n",
       "      <td>4.9</td>\n",
       "      <td>8.1</td>\n",
       "      <td>9.7</td>\n",
       "      <td>-0.617035</td>\n",
       "      <td>-1.240003</td>\n",
       "      <td>-1.033598</td>\n",
       "      <td>8.165312</td>\n",
       "    </tr>\n",
       "    <tr>\n",
       "      <th>198</th>\n",
       "      <td>177.0</td>\n",
       "      <td>9.3</td>\n",
       "      <td>6.4</td>\n",
       "      <td>12.8</td>\n",
       "      <td>0.349810</td>\n",
       "      <td>-0.942899</td>\n",
       "      <td>-1.111852</td>\n",
       "      <td>12.785921</td>\n",
       "    </tr>\n",
       "    <tr>\n",
       "      <th>199</th>\n",
       "      <td>283.6</td>\n",
       "      <td>42.0</td>\n",
       "      <td>66.2</td>\n",
       "      <td>25.5</td>\n",
       "      <td>1.594565</td>\n",
       "      <td>1.265121</td>\n",
       "      <td>1.640850</td>\n",
       "      <td>23.767321</td>\n",
       "    </tr>\n",
       "    <tr>\n",
       "      <th>200</th>\n",
       "      <td>232.1</td>\n",
       "      <td>8.6</td>\n",
       "      <td>8.7</td>\n",
       "      <td>13.4</td>\n",
       "      <td>0.993206</td>\n",
       "      <td>-0.990165</td>\n",
       "      <td>-1.005979</td>\n",
       "      <td>15.173196</td>\n",
       "    </tr>\n",
       "  </tbody>\n",
       "</table>\n",
       "<p>200 rows × 8 columns</p>\n",
       "</div>"
      ],
      "text/plain": [
       "        TV  radio  newspaper  sales  TV_scale  radio_scale  newspaper_scale  \\\n",
       "1    230.1   37.8       69.2   22.1  0.969852     0.981522         1.778945   \n",
       "2     44.5   39.3       45.1   10.4 -1.197376     1.082808         0.669579   \n",
       "3     17.2   45.9       69.3    9.3 -1.516155     1.528463         1.783549   \n",
       "4    151.5   41.3       58.5   18.5  0.052050     1.217855         1.286405   \n",
       "5    180.8   10.8       58.4   12.9  0.394182    -0.841614         1.281802   \n",
       "..     ...    ...        ...    ...       ...          ...              ...   \n",
       "196   38.2    3.7       13.8    7.6 -1.270941    -1.321031        -0.771217   \n",
       "197   94.2    4.9        8.1    9.7 -0.617035    -1.240003        -1.033598   \n",
       "198  177.0    9.3        6.4   12.8  0.349810    -0.942899        -1.111852   \n",
       "199  283.6   42.0       66.2   25.5  1.594565     1.265121         1.640850   \n",
       "200  232.1    8.6        8.7   13.4  0.993206    -0.990165        -1.005979   \n",
       "\n",
       "     predicted  \n",
       "1    20.523974  \n",
       "2    12.337855  \n",
       "3    12.307671  \n",
       "4    17.597830  \n",
       "5    13.188672  \n",
       "..         ...  \n",
       "196   5.370342  \n",
       "197   8.165312  \n",
       "198  12.785921  \n",
       "199  23.767321  \n",
       "200  15.173196  \n",
       "\n",
       "[200 rows x 8 columns]"
      ]
     },
     "metadata": {},
     "output_type": "display_data"
    },
    {
     "name": "stdout",
     "output_type": "stream",
     "text": [
      "\n",
      "SSE, SST, SSR, and RMSE:\n",
      "SSE: 4860.323487097813\n",
      "SST: 5417.14875\n",
      "SSR: 556.8252629021872\n",
      "RMSE: 40.250563089633964\n",
      "                            OLS Regression Results                            \n",
      "==============================================================================\n",
      "Dep. Variable:                  sales   R-squared:                       0.897\n",
      "Model:                            OLS   Adj. R-squared:                  0.896\n",
      "Method:                 Least Squares   F-statistic:                     570.3\n",
      "Date:                Mon, 06 Jan 2020   Prob (F-statistic):           1.58e-96\n",
      "Time:                        14:11:15   Log-Likelihood:                -386.18\n",
      "No. Observations:                 200   AIC:                             780.4\n",
      "Df Residuals:                     196   BIC:                             793.6\n",
      "Df Model:                           3                                         \n",
      "Covariance Type:            nonrobust                                         \n",
      "===================================================================================\n",
      "                      coef    std err          t      P>|t|      [0.025      0.975]\n",
      "-----------------------------------------------------------------------------------\n",
      "Intercept          14.0225      0.119    117.655      0.000      13.787      14.258\n",
      "TV_scale            3.9193      0.119     32.809      0.000       3.684       4.155\n",
      "radio_scale         2.7921      0.128     21.893      0.000       2.541       3.044\n",
      "newspaper_scale    -0.0225      0.128     -0.177      0.860      -0.274       0.229\n",
      "==============================================================================\n",
      "Omnibus:                       60.414   Durbin-Watson:                   2.084\n",
      "Prob(Omnibus):                  0.000   Jarque-Bera (JB):              151.241\n",
      "Skew:                          -1.327   Prob(JB):                     1.44e-33\n",
      "Kurtosis:                       6.332   Cond. No.                         1.46\n",
      "==============================================================================\n",
      "\n",
      "Warnings:\n",
      "[1] Standard Errors assume that the covariance matrix of the errors is correctly specified.\n"
     ]
    },
    {
     "data": {
      "image/png": "[encoded data removed]",
      "text/plain": [
       "<Figure size 432x288 with 1 Axes>"
      ]
     },
     "metadata": {
      "needs_background": "light"
     },
     "output_type": "display_data"
    }
   ],
   "source": [
    "compute_linear_regression_statistic(ad_data, 'sales ~ TV_scale + radio_scale + newspaper_scale', 'sales')"
   ]
  },
  {
   "cell_type": "markdown",
   "metadata": {},
   "source": [
    "When we put all three features (TV, Radio and Newspaper) together in a model, we found a slighly different statistics as following:\n",
    "\n",
    "***\n",
    "### Summary for TV:\n",
    "**Y Intercept = 14.02250**:  When spends no money on TV ads  (zero), sales will be 14,022.50 dollars.\n",
    "    \n",
    "**Slope = 3.9193**:  When we spends money on TV ads by 1 dollar, then we expect that sales will go up by 3,919.3 dollars.\n",
    "\n",
    "**Based on the plot:** We found that the TV advertising still has a strongest positive effects on Sales but in a lesser degree since the slope is decrease when the model has only TV as an only one feature. (From 4,071.01 to 3,919.3 dollars)\n",
    "### Summary for Radio:\n",
    "**Y Intercept = 14.02250**:  When spends no money on radio advertising (zero), sales will be 14,022.50 dollars.\n",
    "    \n",
    "**Slope = 2.7921**:  When we spends money on radio advertising by 1 dollar, then we expect that sales will go up by 2,792.1 dollars.\n",
    "\n",
    "**Based on the plot:** We found that the radio advertising has medium positive effects on Sales but in a lesser degree since the slope is decrease when the model has only radio as an only one feature. (From 2,998.89 to 2,792.1 dollars) \n",
    "\n",
    "### Summary for Newspaper:\n",
    "**Y Intercept = 14.02250**:  When spends no money on newspaper advertising (zero), sales will be 14,022.50 dollars.\n",
    "    \n",
    "**Slope = -0.0225**:  When we spends money on radio advertising by 1 dollar, then we expect that sales will decreate by 225 dollars.\n",
    "\n",
    "**Based on the plot:** We found that the radio advertising has negative effects on Sales (compared when the model has only newspaper as an only one feature). This may due to the fact that people this day consume less from newspapers (compared with TV and radio altogether). So, it's better for the client not to spend money on the newspaper advertising any more. \n",
    "***\n",
    "\n",
    "- **Adjusted R-suqared = 0.896**: 89.6% of the variation in the output variable is explained by the input variables. This tells us that by adding variables will improve our existing model.\n",
    "- **Mean-Qquared Error (RMSE) = 40.250563089633964**: 40.250563089633964x1,000 = 40,250.56 dollars is the square root of the average of squared differences between the prediction of sales and your actual observation. In terms of thousand dollars in sales, this error is quite significant. Therefore, this model didn't represent the data very well."
   ]
  },
  {
   "cell_type": "code",
   "execution_count": null,
   "metadata": {},
   "outputs": [],
   "source": []
  }
 ],
 "metadata": {
  "kernelspec": {
   "display_name": "Python 3",
   "language": "python",
   "name": "python3"
  },
  "language_info": {
   "codemirror_mode": {
    "name": "ipython",
    "version": 3
   },
   "file_extension": ".py",
   "mimetype": "text/x-python",
   "name": "python",
   "nbconvert_exporter": "python",
   "pygments_lexer": "ipython3",
   "version": "3.7.5"
  }
 },
 "nbformat": 4,
 "nbformat_minor": 2
}
