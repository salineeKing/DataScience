{
 "cells": [
  {
   "cell_type": "markdown",
   "metadata": {},
   "source": [
    "# Lesson 9  - Naive Bayes Assignment\n",
    "## Author - Salinee Kingbaisomboon\n",
    "### UW NetID: 1950831"
   ]
  },
  {
   "cell_type": "markdown",
   "metadata": {},
   "source": [
    "## Instructions\n",
    "As part of this assignment, try leveraging Naïve Bayes as a model for your independent project. As part of the modeling process, you might need to convert the data into categorical form to apply Naïve Bayes.\n",
    "\n",
    "As a hint, if you have numerical attributes, use binning to convert them to categorical.\n",
    "\n",
    "1. Leverage Naïve Bayes algorithm to classify build a model using the data from previous milestones.\n",
    "2. Briefly summarize your findings on using Naïve Bayes.\n",
    "3. Is Naïve Bayes more accurate than the regression model you used in Milestone 3?"
   ]
  },
  {
   "cell_type": "markdown",
   "metadata": {
    "collapsed": true
   },
   "source": [
    "## Declare Functions used in this assignment"
   ]
  },
  {
   "cell_type": "code",
   "execution_count": 28,
   "metadata": {
    "collapsed": true
   },
   "outputs": [],
   "source": [
    "# Load necessary libraries\n",
    "import pandas as pd\n",
    "import numpy as np\n",
    "import matplotlib.pyplot as plt\n",
    "\n",
    "import sklearn.naive_bayes\n",
    "import sklearn.metrics\n",
    "\n",
    "import warnings\n",
    "warnings.filterwarnings(\"ignore\") # To suppress warning\n",
    "\n",
    "%matplotlib inline"
   ]
  },
  {
   "cell_type": "code",
   "execution_count": 68,
   "metadata": {
    "collapsed": true
   },
   "outputs": [],
   "source": [
    "def confusion_matrix(labels, predicted_labels, label_classes):\n",
    "    return pd.DataFrame(\n",
    "        sklearn.metrics.confusion_matrix(labels, predicted_labels),\n",
    "        index=[label_classes], \n",
    "        columns=label_classes)  "
   ]
  },
  {
   "cell_type": "code",
   "execution_count": 58,
   "metadata": {
    "collapsed": true
   },
   "outputs": [],
   "source": [
    "# Location of dataset\n",
    "filename = 'https://archive.ics.uci.edu/ml/machine-learning-databases/forest-fires/forestfires.csv'\n",
    "\n",
    "forestfires_df = pd.read_csv(filename)"
   ]
  },
  {
   "cell_type": "markdown",
   "metadata": {},
   "source": [
    "## Binning to convert numerical to categorical attributes\n",
    "The data source I used for this milestone is from **UCI Machine Learning Repository**: **Forest Fires Data Set**. \n",
    "\n",
    "**URL:** https://archive.ics.uci.edu/ml/datasets/Forest+Fires which all of the features used in this model are all numeric as details shown below.\n",
    "\n",
    "**Attribute information:**\n",
    "1. ~~**X** - x-axis spatial coordinate within the Montesinho park map: 1 to 9~~ <font color=red>**Not used in the model**</font>\n",
    "2. ~~**Y** - y-axis spatial coordinate within the Montesinho park map: 2 to 9~~ <font color=red>**Not used in the model**</font>\n",
    "3. ~~**month** - month of the year: \"jan\" to \"dec\"~~ <font color=red>**Not used in the model**</font>\n",
    "4. ~~**day** - day of the week: \"mon\" to \"sun\"~~ <font color=red>**Not used in the model**</font>\n",
    "5. **FFMC** - FFMC index from the FWI system: 18.7 to 96.20 <font color=blue>**(feature)**</font>\n",
    "6. **DMC** - DMC index from the FWI system: 1.1 to 291.3 <font color=blue>**(feature)**</font>\n",
    "7. **DC** - DC index from the FWI system: 7.9 to 860.6 <font color=blue>**(feature)**</font>\n",
    "8. **ISI** - ISI index from the FWI system: 0.0 to 56.10 <font color=blue>**(feature)**</font>\n",
    "9. **temp** - temperature in Celsius degrees: 2.2 to 33.30 <font color=blue>**(feature)**</font>\n",
    "10. **RH** - relative humidity in %: 15.0 to 100 <font color=blue>**(feature)**</font>\n",
    "11. **wind** - wind speed in km/h: 0.40 to 9.40 <font color=blue>**(feature)**</font>\n",
    "12. **rain** - outside rain in mm/m2 : 0.0 to 6.4 <font color=blue>**(feature)**</font>\n",
    "13. **area** - the burned area of the forest (in ha): 0.00 to 1090.84 <font color=green>**(label)**</font>\n",
    "\n",
    "In order to leverage **Naïve Bayes algorithm** on this classification model, I need to convert those numeric attributes to categorical attributes. On this assignment, I'm particularly interested to see how these **Fire Weather index(FWI)** and other meteorological data doing for prediction. \n",
    "\n",
    "Below is the **Hazard Rating** \n",
    "\n",
    "| Hazard<br>Rating | FFMC<br>(Fine Fuel Moisture Code)  | DMC<br>(Duff Moisture Code) | DC<br>(Drought Code) | ISI<br>(Initial Spread Index) |\n",
    "| --- | --- | --- | --- | --- |\n",
    "| Low | 0-76 | 0-21 | 0-79 | 0-1.5|\n",
    "| Moderate | 77-84 | 22-27 | 80-189 | 2-4 |\n",
    "| High | 85-88 | 28-40 | 190-299 | 5-8 |\n",
    "| Very High | 89-91 | 41-60 | 300-424 | 9-15 |\n",
    "| Extreme | 92+ | 61+ | 425+ | 16+ |\n",
    "\n",
    "<i>Source: https://wildfire.alberta.ca/wildfire-status/fire-weather/understanding-fire-weather.aspx</i>\n",
    "\n",
    "I will bin those **Fire Weather index(FWI)** into its own **Hazard Rating**."
   ]
  },
  {
   "cell_type": "markdown",
   "metadata": {},
   "source": [
    "For **area**, as we can see from the following **Histogram** that majority of the burned area of forest fires are very skewed toward zero. The next bar after zero is about **50** which we can see some significant on it.\n",
    "\n",
    "Therefore, on this assignment, I will binning the numerica area in two categories:\n",
    "1. **area $<$ 50**\n",
    "2. **area $\\geq$ 50** "
   ]
  },
  {
   "cell_type": "code",
   "execution_count": 39,
   "metadata": {},
   "outputs": [
    {
     "data": {
      "text/plain": [
       "Text(0,0.5,'Area (in Hectare)')"
      ]
     },
     "execution_count": 39,
     "metadata": {},
     "output_type": "execute_result"
    },
    {
     "data": {
      "image/png": "[encoded data removed]",
      "text/plain": [
       "<Figure size 720x720 with 1 Axes>"
      ]
     },
     "metadata": {},
     "output_type": "display_data"
    }
   ],
   "source": [
    "plt.figure(figsize=(10,10))\n",
    "plt.hist(forestfires_df['area'], bins = 30)\n",
    "plt.xlabel('Frequency')\n",
    "plt.ylabel('Area (in Hectare)')"
   ]
  },
  {
   "cell_type": "code",
   "execution_count": 59,
   "metadata": {},
   "outputs": [],
   "source": [
    "# Convert Numeric columns to Categorical columns\n",
    "forestfires_df.loc[forestfires_df.loc[:, \"FFMC\"] < 77, \"hz_rating_FFMC\"] = \"Low\"\n",
    "forestfires_df.loc[(forestfires_df.loc[:, \"FFMC\"] >= 77) & (forestfires_df.loc[:, \"FFMC\"] < 85), \"hz_rating_FFMC\"] = \"Moderate\"\n",
    "forestfires_df.loc[(forestfires_df.loc[:, \"FFMC\"] >= 85) & (forestfires_df.loc[:, \"FFMC\"] < 89), \"hz_rating_FFMC\"] = \"High\"\n",
    "forestfires_df.loc[(forestfires_df.loc[:, \"FFMC\"] >= 89) & (forestfires_df.loc[:, \"FFMC\"] < 92), \"hz_rating_FFMC\"] = \"VeryHigh\"\n",
    "forestfires_df.loc[forestfires_df.loc[:, \"FFMC\"] >= 92, \"hz_rating_FFMC\"] = \"Extreme\"\n",
    "\n",
    "forestfires_df.loc[forestfires_df.loc[:, \"DMC\"] < 22, \"hz_rating_DMC\"] = \"Low\"\n",
    "forestfires_df.loc[(forestfires_df.loc[:, \"DMC\"] >= 22) & (forestfires_df.loc[:, \"DMC\"] < 28), \"hz_rating_DMC\"] = \"Moderate\"\n",
    "forestfires_df.loc[(forestfires_df.loc[:, \"DMC\"] >= 28) & (forestfires_df.loc[:, \"DMC\"] < 41), \"hz_rating_DMC\"] = \"High\"\n",
    "forestfires_df.loc[(forestfires_df.loc[:, \"DMC\"] >= 41) & (forestfires_df.loc[:, \"DMC\"] < 61), \"hz_rating_DMC\"] = \"VeryHigh\"\n",
    "forestfires_df.loc[forestfires_df.loc[:, \"DMC\"] >= 61, \"hz_rating_DMC\"] = \"Extreme\"\n",
    "\n",
    "forestfires_df.loc[forestfires_df.loc[:, \"DC\"] < 80, \"hz_rating_DC\"] = \"Low\"\n",
    "forestfires_df.loc[(forestfires_df.loc[:, \"DC\"] >= 80) & (forestfires_df.loc[:, \"DC\"] < 190), \"hz_rating_DC\"] = \"Moderate\"\n",
    "forestfires_df.loc[(forestfires_df.loc[:, \"DC\"] >= 190) & (forestfires_df.loc[:, \"DC\"] < 300), \"hz_rating_DC\"] = \"High\"\n",
    "forestfires_df.loc[(forestfires_df.loc[:, \"DC\"] >= 300) & (forestfires_df.loc[:, \"DC\"] < 425), \"hz_rating_DC\"] = \"VeryHigh\"\n",
    "forestfires_df.loc[forestfires_df.loc[:, \"DC\"] >= 425, \"hz_rating_DC\"] = \"Extreme\"\n",
    "\n",
    "forestfires_df.loc[forestfires_df.loc[:, \"ISI\"] < 2, \"hz_rating_ISI\"] = \"Low\"\n",
    "forestfires_df.loc[(forestfires_df.loc[:, \"ISI\"] >= 2) & (forestfires_df.loc[:, \"ISI\"] < 5), \"hz_rating_ISI\"] = \"Moderate\"\n",
    "forestfires_df.loc[(forestfires_df.loc[:, \"ISI\"] >= 5) & (forestfires_df.loc[:, \"ISI\"] < 9), \"hz_rating_ISI\"] = \"High\"\n",
    "forestfires_df.loc[(forestfires_df.loc[:, \"ISI\"] >= 9) & (forestfires_df.loc[:, \"ISI\"] < 16), \"hz_rating_ISI\"] = \"VeryHigh\"\n",
    "forestfires_df.loc[forestfires_df.loc[:, \"ISI\"] >= 16, \"hz_rating_ISI\"] = \"Extreme\"\n",
    "\n",
    "forestfires_df.loc[forestfires_df.loc[:, \"area\"] < 50, \"area_range\"] = \"<50\"\n",
    "forestfires_df.loc[forestfires_df.loc[:, \"area\"] >= 50, \"area_range\"] = \">=50\""
   ]
  },
  {
   "cell_type": "code",
   "execution_count": 60,
   "metadata": {},
   "outputs": [
    {
     "data": {
      "text/html": [
       "<div>\n",
       "<style scoped>\n",
       "    .dataframe tbody tr th:only-of-type {\n",
       "        vertical-align: middle;\n",
       "    }\n",
       "\n",
       "    .dataframe tbody tr th {\n",
       "        vertical-align: top;\n",
       "    }\n",
       "\n",
       "    .dataframe thead th {\n",
       "        text-align: right;\n",
       "    }\n",
       "</style>\n",
       "<table border=\"1\" class=\"dataframe\">\n",
       "  <thead>\n",
       "    <tr style=\"text-align: right;\">\n",
       "      <th></th>\n",
       "      <th>temp</th>\n",
       "      <th>RH</th>\n",
       "      <th>wind</th>\n",
       "      <th>rain</th>\n",
       "      <th>hz_rating_FFMC</th>\n",
       "      <th>hz_rating_DMC</th>\n",
       "      <th>hz_rating_DC</th>\n",
       "      <th>hz_rating_ISI</th>\n",
       "      <th>area_range</th>\n",
       "    </tr>\n",
       "  </thead>\n",
       "  <tbody>\n",
       "    <tr>\n",
       "      <th>0</th>\n",
       "      <td>8.2</td>\n",
       "      <td>51</td>\n",
       "      <td>6.7</td>\n",
       "      <td>0.0</td>\n",
       "      <td>High</td>\n",
       "      <td>Moderate</td>\n",
       "      <td>Moderate</td>\n",
       "      <td>High</td>\n",
       "      <td>&lt;50</td>\n",
       "    </tr>\n",
       "    <tr>\n",
       "      <th>1</th>\n",
       "      <td>18.0</td>\n",
       "      <td>33</td>\n",
       "      <td>0.9</td>\n",
       "      <td>0.0</td>\n",
       "      <td>VeryHigh</td>\n",
       "      <td>High</td>\n",
       "      <td>Extreme</td>\n",
       "      <td>High</td>\n",
       "      <td>&lt;50</td>\n",
       "    </tr>\n",
       "    <tr>\n",
       "      <th>2</th>\n",
       "      <td>14.6</td>\n",
       "      <td>33</td>\n",
       "      <td>1.3</td>\n",
       "      <td>0.0</td>\n",
       "      <td>VeryHigh</td>\n",
       "      <td>VeryHigh</td>\n",
       "      <td>Extreme</td>\n",
       "      <td>High</td>\n",
       "      <td>&lt;50</td>\n",
       "    </tr>\n",
       "    <tr>\n",
       "      <th>3</th>\n",
       "      <td>8.3</td>\n",
       "      <td>97</td>\n",
       "      <td>4.0</td>\n",
       "      <td>0.2</td>\n",
       "      <td>VeryHigh</td>\n",
       "      <td>High</td>\n",
       "      <td>Low</td>\n",
       "      <td>VeryHigh</td>\n",
       "      <td>&lt;50</td>\n",
       "    </tr>\n",
       "    <tr>\n",
       "      <th>4</th>\n",
       "      <td>11.4</td>\n",
       "      <td>99</td>\n",
       "      <td>1.8</td>\n",
       "      <td>0.0</td>\n",
       "      <td>VeryHigh</td>\n",
       "      <td>VeryHigh</td>\n",
       "      <td>Moderate</td>\n",
       "      <td>VeryHigh</td>\n",
       "      <td>&lt;50</td>\n",
       "    </tr>\n",
       "  </tbody>\n",
       "</table>\n",
       "</div>"
      ],
      "text/plain": [
       "   temp  RH  wind  rain hz_rating_FFMC hz_rating_DMC hz_rating_DC  \\\n",
       "0   8.2  51   6.7   0.0           High      Moderate     Moderate   \n",
       "1  18.0  33   0.9   0.0       VeryHigh          High      Extreme   \n",
       "2  14.6  33   1.3   0.0       VeryHigh      VeryHigh      Extreme   \n",
       "3   8.3  97   4.0   0.2       VeryHigh          High          Low   \n",
       "4  11.4  99   1.8   0.0       VeryHigh      VeryHigh     Moderate   \n",
       "\n",
       "  hz_rating_ISI area_range  \n",
       "0          High        <50  \n",
       "1          High        <50  \n",
       "2          High        <50  \n",
       "3      VeryHigh        <50  \n",
       "4      VeryHigh        <50  "
      ]
     },
     "execution_count": 60,
     "metadata": {},
     "output_type": "execute_result"
    }
   ],
   "source": [
    "# Drop unused columns\n",
    "Obsolete = ['X', 'Y', 'month', 'day', 'FFMC', 'DMC', 'DC', 'ISI', 'area'], \n",
    "for x in Obsolete:\n",
    "    forestfires_df = forestfires_df.drop(x, axis=1)\n",
    "    \n",
    "# Preview the data\n",
    "forestfires_df.head()"
   ]
  },
  {
   "cell_type": "markdown",
   "metadata": {},
   "source": [
    "### Train and Test the Model\n",
    "\n",
    "I decide to use **Laplace Smoothing** since is an effective way to deal with data sets which do not have sufficient samples to compute probabilities. This data set has only **517 records**."
   ]
  },
  {
   "cell_type": "code",
   "execution_count": 86,
   "metadata": {},
   "outputs": [
    {
     "name": "stdout",
     "output_type": "stream",
     "text": [
      "temp               float64\n",
      "RH                   int64\n",
      "wind               float64\n",
      "rain               float64\n",
      "hz_rating_FFMC    category\n",
      "hz_rating_DMC     category\n",
      "hz_rating_DC      category\n",
      "hz_rating_ISI     category\n",
      "area_range        category\n",
      "dtype: object\n"
     ]
    },
    {
     "data": {
      "text/plain": [
       "array([[ 8.2, 51. ,  6.7, ...,  3. ,  3. ,  1. ],\n",
       "       [18. , 33. ,  0.9, ...,  1. ,  0. ,  1. ],\n",
       "       [14.6, 33. ,  1.3, ...,  4. ,  0. ,  1. ],\n",
       "       ...,\n",
       "       [21.2, 70. ,  6.7, ...,  4. ,  0. ,  2. ],\n",
       "       [25.6, 42. ,  4. , ...,  0. ,  0. ,  4. ],\n",
       "       [11.8, 31. ,  4.5, ...,  2. ,  3. ,  2. ]])"
      ]
     },
     "execution_count": 86,
     "metadata": {},
     "output_type": "execute_result"
    }
   ],
   "source": [
    "# Convert our dataframe columns from string (object) to \"category\"\n",
    "for c in forestfires_df.columns:\n",
    "    if forestfires_df[c].dtype == 'object':\n",
    "        forestfires_df[c] = forestfires_df[c].astype('category')\n",
    "\n",
    "# Our label column\n",
    "area_range_label_col = 'area_range'\n",
    "area_range_labels = forestfires_df[area_range_label_col].cat.codes\n",
    "\n",
    "print(forestfires_df.dtypes)\n",
    "forestfires_df.head()\n",
    "\n",
    "# Convert our categorical values to numeric feature vectors\n",
    "features = []\n",
    "for c in forestfires_df.columns:\n",
    "    if c != area_range_label_col:\n",
    "        if str(forestfires_df[c].dtype) == 'category': # converts categorical columns to numeric values\n",
    "            features.append(forestfires_df[c].cat.codes)\n",
    "        else:\n",
    "           features.append(forestfires_df[c])\n",
    "area_feature_vecs = np.array(features).T\n",
    "area_feature_vecs"
   ]
  },
  {
   "cell_type": "code",
   "execution_count": 85,
   "metadata": {},
   "outputs": [
    {
     "name": "stdout",
     "output_type": "stream",
     "text": [
      "[('0', '<50')]\n",
      "[('1', '>=50')]\n"
     ]
    }
   ],
   "source": [
    "# Let check the area's category code\n",
    "# 0 is area <50\n",
    "# 1 is area >= 50\n",
    "print(list(zip(\"0\", forestfires_df.loc[forestfires_df[area_range_label_col].cat.codes == 0, \"area_range\"][:1])))\n",
    "print(list(zip(\"1\", forestfires_df.loc[forestfires_df[area_range_label_col].cat.codes == 1, \"area_range\"][:1])))"
   ]
  },
  {
   "cell_type": "code",
   "execution_count": 63,
   "metadata": {},
   "outputs": [
    {
     "data": {
      "text/plain": [
       "MultinomialNB(alpha=3, class_prior=None, fit_prior=True)"
      ]
     },
     "execution_count": 63,
     "metadata": {},
     "output_type": "execute_result"
    }
   ],
   "source": [
    "# Create the Model\n",
    "model = sklearn.naive_bayes.MultinomialNB(alpha=3)\n",
    "model.fit(area_feature_vecs, area_range_labels)"
   ]
  },
  {
   "cell_type": "code",
   "execution_count": 65,
   "metadata": {},
   "outputs": [
    {
     "data": {
      "text/html": [
       "<div>\n",
       "<style scoped>\n",
       "    .dataframe tbody tr th:only-of-type {\n",
       "        vertical-align: middle;\n",
       "    }\n",
       "\n",
       "    .dataframe tbody tr th {\n",
       "        vertical-align: top;\n",
       "    }\n",
       "\n",
       "    .dataframe thead th {\n",
       "        text-align: right;\n",
       "    }\n",
       "</style>\n",
       "<table border=\"1\" class=\"dataframe\">\n",
       "  <thead>\n",
       "    <tr style=\"text-align: right;\">\n",
       "      <th></th>\n",
       "      <th>temp</th>\n",
       "      <th>RH</th>\n",
       "      <th>wind</th>\n",
       "      <th>rain</th>\n",
       "      <th>hz_rating_FFMC</th>\n",
       "      <th>hz_rating_DMC</th>\n",
       "      <th>hz_rating_DC</th>\n",
       "      <th>hz_rating_ISI</th>\n",
       "    </tr>\n",
       "  </thead>\n",
       "  <tbody>\n",
       "    <tr>\n",
       "      <th>0</th>\n",
       "      <td>-1.356400</td>\n",
       "      <td>-0.491589</td>\n",
       "      <td>-2.894598</td>\n",
       "      <td>-7.835234</td>\n",
       "      <td>-3.633067</td>\n",
       "      <td>-4.692418</td>\n",
       "      <td>-4.720155</td>\n",
       "      <td>-3.489053</td>\n",
       "    </tr>\n",
       "    <tr>\n",
       "      <th>1</th>\n",
       "      <td>-1.172757</td>\n",
       "      <td>-0.584017</td>\n",
       "      <td>-2.859461</td>\n",
       "      <td>-6.336590</td>\n",
       "      <td>-3.523179</td>\n",
       "      <td>-5.037307</td>\n",
       "      <td>-5.355760</td>\n",
       "      <td>-3.409850</td>\n",
       "    </tr>\n",
       "  </tbody>\n",
       "</table>\n",
       "</div>"
      ],
      "text/plain": [
       "       temp        RH      wind      rain  hz_rating_FFMC  hz_rating_DMC  \\\n",
       "0 -1.356400 -0.491589 -2.894598 -7.835234       -3.633067      -4.692418   \n",
       "1 -1.172757 -0.584017 -2.859461 -6.336590       -3.523179      -5.037307   \n",
       "\n",
       "   hz_rating_DC  hz_rating_ISI  \n",
       "0     -4.720155      -3.489053  \n",
       "1     -5.355760      -3.409850  "
      ]
     },
     "execution_count": 65,
     "metadata": {},
     "output_type": "execute_result"
    }
   ],
   "source": [
    "# Look at the log conditional probabilities of being <50 (0) or >=50 (1) on each of these features\n",
    "conditional_probas = pd.DataFrame(model.feature_log_prob_, columns=forestfires_df.columns[:-1])\n",
    "conditional_probas"
   ]
  },
  {
   "cell_type": "code",
   "execution_count": 66,
   "metadata": {},
   "outputs": [
    {
     "data": {
      "text/plain": [
       "<matplotlib.axes._subplots.AxesSubplot at 0x7f00da976710>"
      ]
     },
     "execution_count": 66,
     "metadata": {},
     "output_type": "execute_result"
    },
    {
     "data": {
      "image/png": "[encoded data removed]",
      "text/plain": [
       "<Figure size 432x288 with 1 Axes>"
      ]
     },
     "metadata": {},
     "output_type": "display_data"
    }
   ],
   "source": [
    "(-conditional_probas).plot(kind='bar')"
   ]
  },
  {
   "cell_type": "markdown",
   "metadata": {},
   "source": [
    "### Evaluate Model Performance"
   ]
  },
  {
   "cell_type": "code",
   "execution_count": 69,
   "metadata": {},
   "outputs": [
    {
     "name": "stdout",
     "output_type": "stream",
     "text": [
      "Accuracy = 0.917, Precision = 0.087, Recall = 0.083\n",
      "Confusion matrix:\n"
     ]
    },
    {
     "data": {
      "text/html": [
       "<div>\n",
       "<style scoped>\n",
       "    .dataframe tbody tr th:only-of-type {\n",
       "        vertical-align: middle;\n",
       "    }\n",
       "\n",
       "    .dataframe tbody tr th {\n",
       "        vertical-align: top;\n",
       "    }\n",
       "\n",
       "    .dataframe thead th {\n",
       "        text-align: right;\n",
       "    }\n",
       "</style>\n",
       "<table border=\"1\" class=\"dataframe\">\n",
       "  <thead>\n",
       "    <tr style=\"text-align: right;\">\n",
       "      <th></th>\n",
       "      <th>&lt;50</th>\n",
       "      <th>&gt;=50</th>\n",
       "    </tr>\n",
       "  </thead>\n",
       "  <tbody>\n",
       "    <tr>\n",
       "      <th>&lt;50</th>\n",
       "      <td>472</td>\n",
       "      <td>21</td>\n",
       "    </tr>\n",
       "    <tr>\n",
       "      <th>&gt;=50</th>\n",
       "      <td>22</td>\n",
       "      <td>2</td>\n",
       "    </tr>\n",
       "  </tbody>\n",
       "</table>\n",
       "</div>"
      ],
      "text/plain": [
       "      <50  >=50\n",
       "<50   472    21\n",
       ">=50   22     2"
      ]
     },
     "execution_count": 69,
     "metadata": {},
     "output_type": "execute_result"
    }
   ],
   "source": [
    "# Get the preidctions & probabilities results from the model\n",
    "predicted_area_range = model.predict(area_feature_vecs)\n",
    "area_range_probabilities = model.predict_proba(area_feature_vecs)\n",
    "\n",
    "# Compute Accuracy, Precision, Recall and Confusion Matrix\n",
    "accuracy = sklearn.metrics.accuracy_score(area_range_labels, predicted_area_range)\n",
    "precision = sklearn.metrics.precision_score(area_range_labels, predicted_area_range)\n",
    "recall = sklearn.metrics.recall_score(area_range_labels, predicted_area_range)\n",
    "print('Accuracy = %.3f, Precision = %.3f, Recall = %.3f' % (accuracy, precision, recall))\n",
    "print('Confusion matrix:')\n",
    "confusion_matrix(area_range_labels, predicted_area_range, \n",
    "                 forestfires_df[area_range_label_col].cat.categories)"
   ]
  },
  {
   "cell_type": "markdown",
   "metadata": {},
   "source": [
    "### Summary"
   ]
  },
  {
   "cell_type": "markdown",
   "metadata": {},
   "source": [
    "1. From **Confusion Matrix**: \n",
    "    - **True Positive = 2 (lower right)** and **True Negative = 472 (upper left)**\n",
    "    - **False Negative (Type II error) = 22 (lower left)** and **False Positive (Type I error) = 21 (upper right)** \n",
    "    - **Note:** result varies on each run.\n",
    "2. **Accuracy** We predict 9.17 out of 10 times correct. This is good sign.\n",
    "3. **Precision** Since precision refers to the closeness of the measurements to each other, this mean each prediction will yeild the same result about +87% which is really good.\n",
    "4. **Recall** for both class 0 (**area $<$ 50**) and class 1 (**area $\\geq$ 50**) are pretty good which mean we have the useful proportion of both cases about +83% amoung the overall data."
   ]
  },
  {
   "cell_type": "markdown",
   "metadata": {},
   "source": [
    "###  Is Naïve Bayes more accurate than the regression model you used in Milestone 3"
   ]
  },
  {
   "cell_type": "markdown",
   "metadata": {},
   "source": [
    "From the **Accuracy**, **Precision** and **Recall**, I can conclude that this model is <font color=green>**more accurate**</font> than the regression model I created in **Milestone 3**.\n",
    "\n",
    "However, from the **Confusion matrix**, the **True Positive** and **False Negative** are pretty low compared with the rest. I can conclude that this model is pretty good to predict if the actual burned area is lower than 50 (**area $<$ 50**) but not very accurate when the actual burned area is greater than or equal to 50 (**area $\\geq$ 50**)."
   ]
  },
  {
   "cell_type": "code",
   "execution_count": null,
   "metadata": {
    "collapsed": true
   },
   "outputs": [],
   "source": []
  }
 ],
 "metadata": {
  "kernelspec": {
   "display_name": "Python 3",
   "language": "python",
   "name": "python3"
  },
  "language_info": {
   "codemirror_mode": {
    "name": "ipython",
    "version": 3
   },
   "file_extension": ".py",
   "mimetype": "text/x-python",
   "name": "python",
   "nbconvert_exporter": "python",
   "pygments_lexer": "ipython3",
   "version": "3.7.5"
  }
 },
 "nbformat": 4,
 "nbformat_minor": 1
}
