{
 "cells": [
  {
   "cell_type": "markdown",
   "metadata": {},
   "source": [
    "# Assignment 7 - Age of Abalone\n",
    "## Author - Salinee Kingbaisomboon\n",
    "### UW NetID: 1950831"
   ]
  },
  {
   "cell_type": "markdown",
   "metadata": {},
   "source": [
    "## Instructions\n",
    "1. Convert the continuous output value from continuous to binary (0,1) and build an SVC\n",
    "2. Using your best guess for hyperparameters and kernel, what is the percentage of correctly classified results?\n",
    "3. Test different kernels and hyperparameters or consider using sklearn.model_selection.SearchGridCV. Which kernel performed best with what settings?\n",
    "4. Show recall, precision and f-measure for the best model\n",
    "5. Using the original data, with rings as a continuous variable, create an SVR model\n",
    "6. Report on the predicted variance and the mean squared error"
   ]
  },
  {
   "cell_type": "code",
   "execution_count": 1,
   "metadata": {},
   "outputs": [],
   "source": [
    "# Load necessary libraries\n",
    "import pandas as pd\n",
    "import numpy as np\n",
    "\n",
    "from sklearn import preprocessing\n",
    "from sklearn.model_selection import train_test_split\n",
    "from sklearn import svm, metrics\n",
    "from sklearn.metrics import classification_report\n",
    "from sklearn.model_selection import GridSearchCV\n",
    "from sklearn.metrics import mean_squared_error\n",
    "from sklearn.metrics import explained_variance_score\n",
    "from sklearn.metrics import r2_score\n",
    "\n",
    "import matplotlib.pyplot as plt\n",
    "\n",
    "import warnings\n",
    "\n",
    "warnings.filterwarnings(\"ignore\") # To suppress warning\n",
    "\n",
    "%matplotlib inline\n",
    "\n",
    "pd.options.display.max_rows = None\n",
    "pd.options.display.max_columns = None"
   ]
  },
  {
   "cell_type": "markdown",
   "metadata": {},
   "source": [
    "# Read and perform data cleaning"
   ]
  },
  {
   "cell_type": "code",
   "execution_count": 2,
   "metadata": {},
   "outputs": [],
   "source": [
    "# Load data\n",
    "filename = 'https://archive.ics.uci.edu/ml/machine-learning-databases/abalone/abalone.data'\n",
    "df = pd.read_csv(filename, header=None)\n",
    "\n",
    "# Headers from https://archive.ics.uci.edu/ml/machine-learning-databases/breast-cancer-wisconsin/breast-cancer-wisconsin.names\n",
    "feature_names = ['Sex','Length','Diameter','Height','Whole weight','Shucked weight','Viscera weight','Shell weight']\n",
    "\n",
    "# Assign column's names\n",
    "df.columns = np.append(feature_names, ['Rings'])\n",
    "\n",
    "# Convert target attribute from continuous to binary\n",
    "df['Rings Binary'] = np.where(df['Rings'] < 11, 0, 1)\n",
    "\n",
    "# Convert categorical columns to numeric columns\n",
    "# Will affect Sex columns (M = 2, F = 0, I = 1)\n",
    "le = preprocessing.LabelEncoder()\n",
    "df = df.apply(le.fit_transform)\n",
    "\n",
    "cols = df.columns\n",
    "min_max_scaler = preprocessing.MinMaxScaler()\n",
    "np_scaled = min_max_scaler.fit_transform(df)\n",
    "df_normalized = pd.DataFrame(np_scaled, columns = cols)"
   ]
  },
  {
   "cell_type": "code",
   "execution_count": 3,
   "metadata": {},
   "outputs": [
    {
     "data": {
      "text/html": [
       "<div>\n",
       "<style scoped>\n",
       "    .dataframe tbody tr th:only-of-type {\n",
       "        vertical-align: middle;\n",
       "    }\n",
       "\n",
       "    .dataframe tbody tr th {\n",
       "        vertical-align: top;\n",
       "    }\n",
       "\n",
       "    .dataframe thead th {\n",
       "        text-align: right;\n",
       "    }\n",
       "</style>\n",
       "<table border=\"1\" class=\"dataframe\">\n",
       "  <thead>\n",
       "    <tr style=\"text-align: right;\">\n",
       "      <th></th>\n",
       "      <th>Sex</th>\n",
       "      <th>Length</th>\n",
       "      <th>Diameter</th>\n",
       "      <th>Height</th>\n",
       "      <th>Whole weight</th>\n",
       "      <th>Shucked weight</th>\n",
       "      <th>Viscera weight</th>\n",
       "      <th>Shell weight</th>\n",
       "      <th>Rings</th>\n",
       "      <th>Rings Binary</th>\n",
       "    </tr>\n",
       "  </thead>\n",
       "  <tbody>\n",
       "    <tr>\n",
       "      <th>0</th>\n",
       "      <td>2</td>\n",
       "      <td>66</td>\n",
       "      <td>56</td>\n",
       "      <td>18</td>\n",
       "      <td>715</td>\n",
       "      <td>417</td>\n",
       "      <td>199</td>\n",
       "      <td>263</td>\n",
       "      <td>14</td>\n",
       "      <td>1</td>\n",
       "    </tr>\n",
       "    <tr>\n",
       "      <th>1</th>\n",
       "      <td>2</td>\n",
       "      <td>45</td>\n",
       "      <td>36</td>\n",
       "      <td>17</td>\n",
       "      <td>285</td>\n",
       "      <td>178</td>\n",
       "      <td>94</td>\n",
       "      <td>113</td>\n",
       "      <td>6</td>\n",
       "      <td>0</td>\n",
       "    </tr>\n",
       "    <tr>\n",
       "      <th>2</th>\n",
       "      <td>0</td>\n",
       "      <td>81</td>\n",
       "      <td>67</td>\n",
       "      <td>26</td>\n",
       "      <td>962</td>\n",
       "      <td>480</td>\n",
       "      <td>280</td>\n",
       "      <td>374</td>\n",
       "      <td>8</td>\n",
       "      <td>0</td>\n",
       "    </tr>\n",
       "    <tr>\n",
       "      <th>3</th>\n",
       "      <td>2</td>\n",
       "      <td>63</td>\n",
       "      <td>56</td>\n",
       "      <td>24</td>\n",
       "      <td>718</td>\n",
       "      <td>400</td>\n",
       "      <td>225</td>\n",
       "      <td>273</td>\n",
       "      <td>9</td>\n",
       "      <td>0</td>\n",
       "    </tr>\n",
       "    <tr>\n",
       "      <th>4</th>\n",
       "      <td>1</td>\n",
       "      <td>41</td>\n",
       "      <td>34</td>\n",
       "      <td>15</td>\n",
       "      <td>253</td>\n",
       "      <td>159</td>\n",
       "      <td>76</td>\n",
       "      <td>87</td>\n",
       "      <td>6</td>\n",
       "      <td>0</td>\n",
       "    </tr>\n",
       "  </tbody>\n",
       "</table>\n",
       "</div>"
      ],
      "text/plain": [
       "   Sex  Length  Diameter  Height  Whole weight  Shucked weight  \\\n",
       "0    2      66        56      18           715             417   \n",
       "1    2      45        36      17           285             178   \n",
       "2    0      81        67      26           962             480   \n",
       "3    2      63        56      24           718             400   \n",
       "4    1      41        34      15           253             159   \n",
       "\n",
       "   Viscera weight  Shell weight  Rings  Rings Binary  \n",
       "0             199           263     14             1  \n",
       "1              94           113      6             0  \n",
       "2             280           374      8             0  \n",
       "3             225           273      9             0  \n",
       "4              76            87      6             0  "
      ]
     },
     "execution_count": 3,
     "metadata": {},
     "output_type": "execute_result"
    }
   ],
   "source": [
    "# View first five rows of the data frame\n",
    "df.head()"
   ]
  },
  {
   "cell_type": "code",
   "execution_count": 4,
   "metadata": {},
   "outputs": [
    {
     "name": "stdout",
     "output_type": "stream",
     "text": [
      "(4177, 10)\n",
      "Sex               int32\n",
      "Length            int64\n",
      "Diameter          int64\n",
      "Height            int64\n",
      "Whole weight      int64\n",
      "Shucked weight    int64\n",
      "Viscera weight    int64\n",
      "Shell weight      int64\n",
      "Rings             int64\n",
      "Rings Binary      int64\n",
      "dtype: object\n"
     ]
    }
   ],
   "source": [
    "# Print DataFrame's size\n",
    "print(df.shape)\n",
    "# Print DataFrame's data types\n",
    "# Note: we can see that all columns were numeric columns now (after did the onehot-encoded), except the target columns\n",
    "print(df.dtypes)"
   ]
  },
  {
   "cell_type": "markdown",
   "metadata": {},
   "source": [
    "## Split Test and Train data\n",
    "Based on **Tip and Practical Use** from https://scikit-learn.org/stable/modules/svm.html#tips-on-practical-use, Support Vector Machine algorithms are not scale invariant, so it is **highly recommended to scale data**."
   ]
  },
  {
   "cell_type": "code",
   "execution_count": 5,
   "metadata": {},
   "outputs": [],
   "source": [
    "# Separate the independent variables (AKA Features) from the dependent labels (AKA Target)\n",
    "targetOutcome_scaled = pd.DataFrame(df_normalized,columns=['Rings Binary'])\n",
    "allFeatures_scaled = pd.DataFrame(df_normalized,columns=df_normalized.columns.difference(['Rings Binary', 'Rings']))\n",
    "\n",
    "# Split the Training (90%) and Testing Data (10%)\n",
    "X_scaled, XX_scaled, Y_scaled, YY_scaled = train_test_split(allFeatures_scaled, targetOutcome_scaled, test_size = 0.1, random_state = 0)"
   ]
  },
  {
   "cell_type": "markdown",
   "metadata": {},
   "source": [
    "## Guess for Hyperparameters and Kernel"
   ]
  },
  {
   "cell_type": "code",
   "execution_count": 6,
   "metadata": {},
   "outputs": [
    {
     "name": "stdout",
     "output_type": "stream",
     "text": [
      "LinearSVC\n",
      "              precision    recall  f1-score   support\n",
      "\n",
      "         0.0       0.90      0.78      0.84       300\n",
      "         1.0       0.58      0.77      0.66       118\n",
      "\n",
      "    accuracy                           0.78       418\n",
      "   macro avg       0.74      0.78      0.75       418\n",
      "weighted avg       0.81      0.78      0.79       418\n",
      "\n",
      "Accuracy of the LinearSVC on the training data is 0.78 out of 1\n",
      "Accuracy of the LinearSVC on the test data is 0.78 out of 1\n"
     ]
    }
   ],
   "source": [
    "# Test a LinearSVC\n",
    "clf1 = svm.LinearSVC(C=0.9, max_iter=12000).fit(X_scaled, Y_scaled)\n",
    "y1_predict = clf1.predict(XX_scaled)\n",
    "print(\"LinearSVC\")\n",
    "print(classification_report(clf1.predict(XX_scaled), YY_scaled))\n",
    "print('Accuracy of the LinearSVC on the training data is {:.2f} out of 1'.format(clf1.score(X_scaled, Y_scaled)))\n",
    "print('Accuracy of the LinearSVC on the test data is {:.2f} out of 1'.format(clf1.score(XX_scaled, YY_scaled)))"
   ]
  },
  {
   "cell_type": "markdown",
   "metadata": {},
   "source": [
    "## Using sklearn.model_selection.SearchGridCV to find the best settings"
   ]
  },
  {
   "cell_type": "code",
   "execution_count": 7,
   "metadata": {},
   "outputs": [],
   "source": [
    "parameters = {'kernel':['linear', 'rbf', 'sigmoid'], 'C':[0.1, 0.9, 100], 'gamma': [0.1, 1, 5]}\n",
    "svc = svm.SVC()\n",
    "gsc = GridSearchCV(svc, parameters)\n",
    "\n",
    "grid_result = gsc.fit(X_scaled, Y_scaled)\n",
    "best_params = grid_result.best_params_"
   ]
  },
  {
   "cell_type": "code",
   "execution_count": 8,
   "metadata": {},
   "outputs": [
    {
     "data": {
      "text/plain": [
       "{'C': 100, 'gamma': 1, 'kernel': 'rbf'}"
      ]
     },
     "execution_count": 8,
     "metadata": {},
     "output_type": "execute_result"
    }
   ],
   "source": [
    "# Best hyperparameters\n",
    "best_params"
   ]
  },
  {
   "cell_type": "markdown",
   "metadata": {},
   "source": [
    "## Set the best Hyperparameters & SVM Model"
   ]
  },
  {
   "cell_type": "code",
   "execution_count": 9,
   "metadata": {},
   "outputs": [],
   "source": [
    "# Based on the GridSearchCV\n",
    "cost = best_params['C']\n",
    "gamma = best_params['gamma']\n",
    "kernel = best_params['kernel']"
   ]
  },
  {
   "cell_type": "code",
   "execution_count": 12,
   "metadata": {},
   "outputs": [
    {
     "name": "stdout",
     "output_type": "stream",
     "text": [
      "              precision    recall  f1-score   support\n",
      "\n",
      "         0.0       0.92      0.80      0.86       299\n",
      "         1.0       0.62      0.82      0.71       119\n",
      "\n",
      "    accuracy                           0.81       418\n",
      "   macro avg       0.77      0.81      0.78       418\n",
      "weighted avg       0.83      0.81      0.81       418\n",
      "\n",
      "Accuracy of the Best SVM Model on the training data is 0.80 out of 1\n",
      "Accuracy of the Best SVM Model on the test data is 0.81 out of 1\n"
     ]
    }
   ],
   "source": [
    "clf = svm.SVC(gamma=gamma, kernel=kernel, C=cost).fit(X_scaled, Y_scaled)\n",
    "y_predicted = clf.predict(XX_scaled)\n",
    "print(classification_report(clf.predict(XX_scaled), YY_scaled))\n",
    "print('Accuracy of the Best SVM Model on the training data is {:.2f} out of 1'.format(clf.score(X_scaled, Y_scaled)))\n",
    "print('Accuracy of the Best SVM Model on the test data is {:.2f} out of 1'.format(clf.score(XX_scaled, YY_scaled)))"
   ]
  },
  {
   "cell_type": "markdown",
   "metadata": {},
   "source": [
    "## Create SVR Model\n",
    "Using the original data, with rings as a continuous variable."
   ]
  },
  {
   "cell_type": "code",
   "execution_count": 13,
   "metadata": {},
   "outputs": [],
   "source": [
    "# Separate the independent variables (AKA Features) from the dependent labels (AKA Target)\n",
    "targetOutcome_scaled_original = pd.DataFrame(df_normalized,columns=['Rings'])\n",
    "allFeatures_scaled_original = pd.DataFrame(df_normalized,columns=df_normalized.columns.difference(['Rings Binary', 'Rings']))\n",
    "\n",
    "# Split the Training (90%) and Testing Data (10%)\n",
    "X_scaled_original, XX_scaled_original, Y_scaled_original, YY_scaled_original = train_test_split(allFeatures_scaled_original, targetOutcome_scaled_original, test_size = 0.1, random_state = 0)"
   ]
  },
  {
   "cell_type": "code",
   "execution_count": 17,
   "metadata": {},
   "outputs": [
    {
     "name": "stdout",
     "output_type": "stream",
     "text": [
      "Accuracy of the SVR on the training data is 0.60 out of 1\n",
      "Accuracy of the SVR on the test data is 0.59 out of 1\n",
      "Mean Square Error of the SVR on the test data is 0.01\n",
      "Explained Variance Score of the SVR on the test data is 0.59\n",
      "R2 Score of the SVR on the test data is 0.59\n"
     ]
    }
   ],
   "source": [
    "svr = svm.SVR(gamma=gamma, kernel=kernel, C=cost).fit(X_scaled_original, Y_scaled_original)\n",
    "y_svr_predicted = svr.predict(XX_scaled_original)\n",
    "print('Accuracy of the SVR on the training data is {:.2f} out of 1'.format(svr.score(X_scaled_original, Y_scaled_original)))\n",
    "print('Accuracy of the SVR on the test data is {:.2f} out of 1'.format(svr.score(XX_scaled_original, YY_scaled_original)))\n",
    "\n",
    "print('Mean Square Error of the SVR on the test data is {:.2f}'.format(mean_squared_error(YY_scaled_original, y_svr_predicted)))\n",
    "\n",
    "print('Explained Variance Score of the SVR on the test data is {:.2f}'.format(explained_variance_score(YY_scaled_original, y_svr_predicted)))\n",
    "\n",
    "print('R2 Score of the SVR on the test data is {:.2f}'.format(r2_score(YY_scaled_original, y_svr_predicted)))"
   ]
  },
  {
   "cell_type": "markdown",
   "metadata": {},
   "source": [
    "***\n",
    "**Summary:**\n",
    "1. On the <font color=blue>**best guess**</font>, I used **LinearSVC** with C = 0.9: the **Accuracy** is 78%.\n",
    "2. I used **GridSearchCV** to search for the <font color=blue>**best hyperparameters**</font>: the results are\n",
    "    - **C**: 100\n",
    "    - **Gamma**: 1\n",
    "    - **Kernel**: RBF\n",
    "    - This model yeild the **Accuracy** at 80% on train data and 81% on test data\n",
    "3. For **SVR** model:\n",
    "    - **Mean Square Error** is 0.01\n",
    "    - **Explained Variance Score** is 0.59\n",
    "    - **R2 Score** is 0.59\n",
    "4. We can conclude that using **SVC** yeild the better accuracy and less bias than using **SVR** for this data set.\n",
    "***"
   ]
  },
  {
   "cell_type": "code",
   "execution_count": null,
   "metadata": {},
   "outputs": [],
   "source": []
  }
 ],
 "metadata": {
  "kernelspec": {
   "display_name": "Python 3",
   "language": "python",
   "name": "python3"
  },
  "language_info": {
   "codemirror_mode": {
    "name": "ipython",
    "version": 3
   },
   "file_extension": ".py",
   "mimetype": "text/x-python",
   "name": "python",
   "nbconvert_exporter": "python",
   "pygments_lexer": "ipython3",
   "version": "3.7.6"
  }
 },
 "nbformat": 4,
 "nbformat_minor": 2
}
