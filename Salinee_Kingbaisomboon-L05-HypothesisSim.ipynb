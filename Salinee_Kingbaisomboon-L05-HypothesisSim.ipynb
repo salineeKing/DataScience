{
 "cells": [
  {
   "cell_type": "markdown",
   "metadata": {},
   "source": [
    "# Lesson 5 Assignment  - Hypothesis Simulation \n",
    "## Author - Salinee Kingbaisomboon\n",
    "### UW NetID: 1950831"
   ]
  },
  {
   "cell_type": "markdown",
   "metadata": {},
   "source": [
    "## Instructions\n",
    "Use the <a href=\"https://archive.ics.uci.edu/ml/datasets/Automobile\">automotive data set</a> to perform the following:\n",
    "\n",
    "1. Identify a likely distribution for price and several other features.\n",
    "2. Compute basic summary statistics by both classical, bootstrap, and Bayesian methods\n",
    "3. Compute confidence intervals for these summary statistics by classical, bootstrap, and Bayesian methods\n",
    "4. Correctly use hypothesis tests to determine if the differences in pairs and multiple populations are significant:\n",
    "            Classical tests\n",
    "            Tukey’s Honest Significant Differences (HSD)\n",
    "            Bootstrap methods\n",
    "            Bayesian model\n"
   ]
  },
  {
   "cell_type": "markdown",
   "metadata": {},
   "source": [
    "### Note\n",
    "Please clearly outline the results with markdown text. Be sure your discussion includes narrative for your figures and tables so it is clear to the reader the importance of each bit of evidence."
   ]
  },
  {
   "cell_type": "code",
   "execution_count": 65,
   "metadata": {},
   "outputs": [],
   "source": [
    "# Import libraries\n",
    "import pandas as pd\n",
    "import numpy as np\n",
    "from matplotlib import pyplot\n",
    "import seaborn\n",
    "import statsmodels.api as sm\n",
    "import scipy\n",
    "import itertools\n",
    "from sklearn.preprocessing import scale\n",
    "import statsmodels.stats.weightstats as ws\n",
    "from statsmodels.stats.multicomp import pairwise_tukeyhsd\n",
    "from statistics import mean\n",
    "\n",
    "import warnings\n",
    "\n",
    "warnings.filterwarnings(\"ignore\") # To suppress warning for Seaborn when python version is < 3.7\n",
    "\n",
    "%matplotlib inline"
   ]
  },
  {
   "cell_type": "code",
   "execution_count": 66,
   "metadata": {},
   "outputs": [],
   "source": [
    "# Dataset location\n",
    "fileName = \"https://library.startlearninglabs.uw.edu/DATASCI410/Datasets/Automobile%20price%20data%20_Raw_.csv\"\n",
    "\n",
    "# Read the .csv file with the pandas read_csv method\n",
    "auto_price = pd.read_csv(fileName)\n",
    "\n",
    "# Focus on the continuous variables\n",
    "cols = ['price', 'bore', 'stroke', 'horsepower', 'peak-rpm']\n",
    "\n",
    "# Remove rows with missing values, accounting for mising values coded as '?'\n",
    "for column in cols:\n",
    "    auto_price.loc[auto_price[column] == '?', column] = np.nan\n",
    "auto_price.dropna(axis = 0, inplace = True)\n",
    "\n",
    "## Convert those columns to numeric values\n",
    "for column in cols:\n",
    "    auto_price[column] = pd.to_numeric(auto_price[column])"
   ]
  },
  {
   "cell_type": "code",
   "execution_count": 3,
   "metadata": {},
   "outputs": [
    {
     "data": {
      "text/html": [
       "<div>\n",
       "<style scoped>\n",
       "    .dataframe tbody tr th:only-of-type {\n",
       "        vertical-align: middle;\n",
       "    }\n",
       "\n",
       "    .dataframe tbody tr th {\n",
       "        vertical-align: top;\n",
       "    }\n",
       "\n",
       "    .dataframe thead th {\n",
       "        text-align: right;\n",
       "    }\n",
       "</style>\n",
       "<table border=\"1\" class=\"dataframe\">\n",
       "  <thead>\n",
       "    <tr style=\"text-align: right;\">\n",
       "      <th></th>\n",
       "      <th>symboling</th>\n",
       "      <th>normalized-losses</th>\n",
       "      <th>make</th>\n",
       "      <th>fuel-type</th>\n",
       "      <th>aspiration</th>\n",
       "      <th>num-of-doors</th>\n",
       "      <th>body-style</th>\n",
       "      <th>drive-wheels</th>\n",
       "      <th>engine-location</th>\n",
       "      <th>wheel-base</th>\n",
       "      <th>...</th>\n",
       "      <th>engine-size</th>\n",
       "      <th>fuel-system</th>\n",
       "      <th>bore</th>\n",
       "      <th>stroke</th>\n",
       "      <th>compression-ratio</th>\n",
       "      <th>horsepower</th>\n",
       "      <th>peak-rpm</th>\n",
       "      <th>city-mpg</th>\n",
       "      <th>highway-mpg</th>\n",
       "      <th>price</th>\n",
       "    </tr>\n",
       "  </thead>\n",
       "  <tbody>\n",
       "    <tr>\n",
       "      <th>0</th>\n",
       "      <td>3</td>\n",
       "      <td>?</td>\n",
       "      <td>alfa-romero</td>\n",
       "      <td>gas</td>\n",
       "      <td>std</td>\n",
       "      <td>two</td>\n",
       "      <td>convertible</td>\n",
       "      <td>rwd</td>\n",
       "      <td>front</td>\n",
       "      <td>88.6</td>\n",
       "      <td>...</td>\n",
       "      <td>130</td>\n",
       "      <td>mpfi</td>\n",
       "      <td>3.47</td>\n",
       "      <td>2.68</td>\n",
       "      <td>9.0</td>\n",
       "      <td>111</td>\n",
       "      <td>5000</td>\n",
       "      <td>21</td>\n",
       "      <td>27</td>\n",
       "      <td>13495</td>\n",
       "    </tr>\n",
       "    <tr>\n",
       "      <th>1</th>\n",
       "      <td>3</td>\n",
       "      <td>?</td>\n",
       "      <td>alfa-romero</td>\n",
       "      <td>gas</td>\n",
       "      <td>std</td>\n",
       "      <td>two</td>\n",
       "      <td>convertible</td>\n",
       "      <td>rwd</td>\n",
       "      <td>front</td>\n",
       "      <td>88.6</td>\n",
       "      <td>...</td>\n",
       "      <td>130</td>\n",
       "      <td>mpfi</td>\n",
       "      <td>3.47</td>\n",
       "      <td>2.68</td>\n",
       "      <td>9.0</td>\n",
       "      <td>111</td>\n",
       "      <td>5000</td>\n",
       "      <td>21</td>\n",
       "      <td>27</td>\n",
       "      <td>16500</td>\n",
       "    </tr>\n",
       "    <tr>\n",
       "      <th>2</th>\n",
       "      <td>1</td>\n",
       "      <td>?</td>\n",
       "      <td>alfa-romero</td>\n",
       "      <td>gas</td>\n",
       "      <td>std</td>\n",
       "      <td>two</td>\n",
       "      <td>hatchback</td>\n",
       "      <td>rwd</td>\n",
       "      <td>front</td>\n",
       "      <td>94.5</td>\n",
       "      <td>...</td>\n",
       "      <td>152</td>\n",
       "      <td>mpfi</td>\n",
       "      <td>2.68</td>\n",
       "      <td>3.47</td>\n",
       "      <td>9.0</td>\n",
       "      <td>154</td>\n",
       "      <td>5000</td>\n",
       "      <td>19</td>\n",
       "      <td>26</td>\n",
       "      <td>16500</td>\n",
       "    </tr>\n",
       "    <tr>\n",
       "      <th>3</th>\n",
       "      <td>2</td>\n",
       "      <td>164</td>\n",
       "      <td>audi</td>\n",
       "      <td>gas</td>\n",
       "      <td>std</td>\n",
       "      <td>four</td>\n",
       "      <td>sedan</td>\n",
       "      <td>fwd</td>\n",
       "      <td>front</td>\n",
       "      <td>99.8</td>\n",
       "      <td>...</td>\n",
       "      <td>109</td>\n",
       "      <td>mpfi</td>\n",
       "      <td>3.19</td>\n",
       "      <td>3.40</td>\n",
       "      <td>10.0</td>\n",
       "      <td>102</td>\n",
       "      <td>5500</td>\n",
       "      <td>24</td>\n",
       "      <td>30</td>\n",
       "      <td>13950</td>\n",
       "    </tr>\n",
       "    <tr>\n",
       "      <th>4</th>\n",
       "      <td>2</td>\n",
       "      <td>164</td>\n",
       "      <td>audi</td>\n",
       "      <td>gas</td>\n",
       "      <td>std</td>\n",
       "      <td>four</td>\n",
       "      <td>sedan</td>\n",
       "      <td>4wd</td>\n",
       "      <td>front</td>\n",
       "      <td>99.4</td>\n",
       "      <td>...</td>\n",
       "      <td>136</td>\n",
       "      <td>mpfi</td>\n",
       "      <td>3.19</td>\n",
       "      <td>3.40</td>\n",
       "      <td>8.0</td>\n",
       "      <td>115</td>\n",
       "      <td>5500</td>\n",
       "      <td>18</td>\n",
       "      <td>22</td>\n",
       "      <td>17450</td>\n",
       "    </tr>\n",
       "  </tbody>\n",
       "</table>\n",
       "<p>5 rows × 26 columns</p>\n",
       "</div>"
      ],
      "text/plain": [
       "   symboling normalized-losses         make fuel-type aspiration num-of-doors  \\\n",
       "0          3                 ?  alfa-romero       gas        std          two   \n",
       "1          3                 ?  alfa-romero       gas        std          two   \n",
       "2          1                 ?  alfa-romero       gas        std          two   \n",
       "3          2               164         audi       gas        std         four   \n",
       "4          2               164         audi       gas        std         four   \n",
       "\n",
       "    body-style drive-wheels engine-location  wheel-base  ...  engine-size  \\\n",
       "0  convertible          rwd           front        88.6  ...          130   \n",
       "1  convertible          rwd           front        88.6  ...          130   \n",
       "2    hatchback          rwd           front        94.5  ...          152   \n",
       "3        sedan          fwd           front        99.8  ...          109   \n",
       "4        sedan          4wd           front        99.4  ...          136   \n",
       "\n",
       "   fuel-system  bore  stroke compression-ratio horsepower  peak-rpm city-mpg  \\\n",
       "0         mpfi  3.47    2.68               9.0        111      5000       21   \n",
       "1         mpfi  3.47    2.68               9.0        111      5000       21   \n",
       "2         mpfi  2.68    3.47               9.0        154      5000       19   \n",
       "3         mpfi  3.19    3.40              10.0        102      5500       24   \n",
       "4         mpfi  3.19    3.40               8.0        115      5500       18   \n",
       "\n",
       "   highway-mpg  price  \n",
       "0           27  13495  \n",
       "1           27  16500  \n",
       "2           26  16500  \n",
       "3           30  13950  \n",
       "4           22  17450  \n",
       "\n",
       "[5 rows x 26 columns]"
      ]
     },
     "execution_count": 3,
     "metadata": {},
     "output_type": "execute_result"
    }
   ],
   "source": [
    "# View the first 5 rows of this dataframe\n",
    "auto_price.head()"
   ]
  },
  {
   "cell_type": "code",
   "execution_count": 67,
   "metadata": {},
   "outputs": [
    {
     "data": {
      "text/html": [
       "<div>\n",
       "<style scoped>\n",
       "    .dataframe tbody tr th:only-of-type {\n",
       "        vertical-align: middle;\n",
       "    }\n",
       "\n",
       "    .dataframe tbody tr th {\n",
       "        vertical-align: top;\n",
       "    }\n",
       "\n",
       "    .dataframe thead th {\n",
       "        text-align: right;\n",
       "    }\n",
       "</style>\n",
       "<table border=\"1\" class=\"dataframe\">\n",
       "  <thead>\n",
       "    <tr style=\"text-align: right;\">\n",
       "      <th></th>\n",
       "      <th>symboling</th>\n",
       "      <th>wheel-base</th>\n",
       "      <th>length</th>\n",
       "      <th>width</th>\n",
       "      <th>height</th>\n",
       "      <th>curb-weight</th>\n",
       "      <th>engine-size</th>\n",
       "      <th>bore</th>\n",
       "      <th>stroke</th>\n",
       "      <th>compression-ratio</th>\n",
       "      <th>horsepower</th>\n",
       "      <th>peak-rpm</th>\n",
       "      <th>city-mpg</th>\n",
       "      <th>highway-mpg</th>\n",
       "      <th>price</th>\n",
       "    </tr>\n",
       "  </thead>\n",
       "  <tbody>\n",
       "    <tr>\n",
       "      <th>count</th>\n",
       "      <td>195.000000</td>\n",
       "      <td>195.000000</td>\n",
       "      <td>195.000000</td>\n",
       "      <td>195.000000</td>\n",
       "      <td>195.000000</td>\n",
       "      <td>195.000000</td>\n",
       "      <td>195.000000</td>\n",
       "      <td>195.000000</td>\n",
       "      <td>195.000000</td>\n",
       "      <td>195.000000</td>\n",
       "      <td>195.000000</td>\n",
       "      <td>195.000000</td>\n",
       "      <td>195.000000</td>\n",
       "      <td>195.000000</td>\n",
       "      <td>195.000000</td>\n",
       "    </tr>\n",
       "    <tr>\n",
       "      <th>mean</th>\n",
       "      <td>0.794872</td>\n",
       "      <td>98.896410</td>\n",
       "      <td>174.256923</td>\n",
       "      <td>65.886154</td>\n",
       "      <td>53.861538</td>\n",
       "      <td>2559.000000</td>\n",
       "      <td>127.938462</td>\n",
       "      <td>3.329385</td>\n",
       "      <td>3.250308</td>\n",
       "      <td>10.194974</td>\n",
       "      <td>103.271795</td>\n",
       "      <td>5099.487179</td>\n",
       "      <td>25.374359</td>\n",
       "      <td>30.841026</td>\n",
       "      <td>13248.015385</td>\n",
       "    </tr>\n",
       "    <tr>\n",
       "      <th>std</th>\n",
       "      <td>1.230612</td>\n",
       "      <td>6.132038</td>\n",
       "      <td>12.476443</td>\n",
       "      <td>2.132484</td>\n",
       "      <td>2.396778</td>\n",
       "      <td>524.715799</td>\n",
       "      <td>41.433916</td>\n",
       "      <td>0.271866</td>\n",
       "      <td>0.314115</td>\n",
       "      <td>4.062109</td>\n",
       "      <td>37.869730</td>\n",
       "      <td>468.271381</td>\n",
       "      <td>6.401382</td>\n",
       "      <td>6.829315</td>\n",
       "      <td>8056.330093</td>\n",
       "    </tr>\n",
       "    <tr>\n",
       "      <th>min</th>\n",
       "      <td>-2.000000</td>\n",
       "      <td>86.600000</td>\n",
       "      <td>141.100000</td>\n",
       "      <td>60.300000</td>\n",
       "      <td>47.800000</td>\n",
       "      <td>1488.000000</td>\n",
       "      <td>61.000000</td>\n",
       "      <td>2.540000</td>\n",
       "      <td>2.070000</td>\n",
       "      <td>7.000000</td>\n",
       "      <td>48.000000</td>\n",
       "      <td>4150.000000</td>\n",
       "      <td>13.000000</td>\n",
       "      <td>16.000000</td>\n",
       "      <td>5118.000000</td>\n",
       "    </tr>\n",
       "    <tr>\n",
       "      <th>25%</th>\n",
       "      <td>0.000000</td>\n",
       "      <td>94.500000</td>\n",
       "      <td>166.300000</td>\n",
       "      <td>64.050000</td>\n",
       "      <td>52.000000</td>\n",
       "      <td>2145.000000</td>\n",
       "      <td>98.000000</td>\n",
       "      <td>3.150000</td>\n",
       "      <td>3.110000</td>\n",
       "      <td>8.500000</td>\n",
       "      <td>70.000000</td>\n",
       "      <td>4800.000000</td>\n",
       "      <td>19.500000</td>\n",
       "      <td>25.000000</td>\n",
       "      <td>7756.500000</td>\n",
       "    </tr>\n",
       "    <tr>\n",
       "      <th>50%</th>\n",
       "      <td>1.000000</td>\n",
       "      <td>97.000000</td>\n",
       "      <td>173.200000</td>\n",
       "      <td>65.400000</td>\n",
       "      <td>54.100000</td>\n",
       "      <td>2414.000000</td>\n",
       "      <td>120.000000</td>\n",
       "      <td>3.310000</td>\n",
       "      <td>3.290000</td>\n",
       "      <td>9.000000</td>\n",
       "      <td>95.000000</td>\n",
       "      <td>5100.000000</td>\n",
       "      <td>25.000000</td>\n",
       "      <td>30.000000</td>\n",
       "      <td>10245.000000</td>\n",
       "    </tr>\n",
       "    <tr>\n",
       "      <th>75%</th>\n",
       "      <td>2.000000</td>\n",
       "      <td>102.400000</td>\n",
       "      <td>184.050000</td>\n",
       "      <td>66.900000</td>\n",
       "      <td>55.650000</td>\n",
       "      <td>2943.500000</td>\n",
       "      <td>145.500000</td>\n",
       "      <td>3.590000</td>\n",
       "      <td>3.410000</td>\n",
       "      <td>9.400000</td>\n",
       "      <td>116.000000</td>\n",
       "      <td>5500.000000</td>\n",
       "      <td>30.000000</td>\n",
       "      <td>35.000000</td>\n",
       "      <td>16509.000000</td>\n",
       "    </tr>\n",
       "    <tr>\n",
       "      <th>max</th>\n",
       "      <td>3.000000</td>\n",
       "      <td>120.900000</td>\n",
       "      <td>208.100000</td>\n",
       "      <td>72.000000</td>\n",
       "      <td>59.800000</td>\n",
       "      <td>4066.000000</td>\n",
       "      <td>326.000000</td>\n",
       "      <td>3.940000</td>\n",
       "      <td>4.170000</td>\n",
       "      <td>23.000000</td>\n",
       "      <td>262.000000</td>\n",
       "      <td>6600.000000</td>\n",
       "      <td>49.000000</td>\n",
       "      <td>54.000000</td>\n",
       "      <td>45400.000000</td>\n",
       "    </tr>\n",
       "  </tbody>\n",
       "</table>\n",
       "</div>"
      ],
      "text/plain": [
       "        symboling  wheel-base      length       width      height  \\\n",
       "count  195.000000  195.000000  195.000000  195.000000  195.000000   \n",
       "mean     0.794872   98.896410  174.256923   65.886154   53.861538   \n",
       "std      1.230612    6.132038   12.476443    2.132484    2.396778   \n",
       "min     -2.000000   86.600000  141.100000   60.300000   47.800000   \n",
       "25%      0.000000   94.500000  166.300000   64.050000   52.000000   \n",
       "50%      1.000000   97.000000  173.200000   65.400000   54.100000   \n",
       "75%      2.000000  102.400000  184.050000   66.900000   55.650000   \n",
       "max      3.000000  120.900000  208.100000   72.000000   59.800000   \n",
       "\n",
       "       curb-weight  engine-size        bore      stroke  compression-ratio  \\\n",
       "count   195.000000   195.000000  195.000000  195.000000         195.000000   \n",
       "mean   2559.000000   127.938462    3.329385    3.250308          10.194974   \n",
       "std     524.715799    41.433916    0.271866    0.314115           4.062109   \n",
       "min    1488.000000    61.000000    2.540000    2.070000           7.000000   \n",
       "25%    2145.000000    98.000000    3.150000    3.110000           8.500000   \n",
       "50%    2414.000000   120.000000    3.310000    3.290000           9.000000   \n",
       "75%    2943.500000   145.500000    3.590000    3.410000           9.400000   \n",
       "max    4066.000000   326.000000    3.940000    4.170000          23.000000   \n",
       "\n",
       "       horsepower     peak-rpm    city-mpg  highway-mpg         price  \n",
       "count  195.000000   195.000000  195.000000   195.000000    195.000000  \n",
       "mean   103.271795  5099.487179   25.374359    30.841026  13248.015385  \n",
       "std     37.869730   468.271381    6.401382     6.829315   8056.330093  \n",
       "min     48.000000  4150.000000   13.000000    16.000000   5118.000000  \n",
       "25%     70.000000  4800.000000   19.500000    25.000000   7756.500000  \n",
       "50%     95.000000  5100.000000   25.000000    30.000000  10245.000000  \n",
       "75%    116.000000  5500.000000   30.000000    35.000000  16509.000000  \n",
       "max    262.000000  6600.000000   49.000000    54.000000  45400.000000  "
      ]
     },
     "execution_count": 67,
     "metadata": {},
     "output_type": "execute_result"
    }
   ],
   "source": [
    "# View the summary statistics for this dataframe\n",
    "auto_price.describe()"
   ]
  },
  {
   "cell_type": "markdown",
   "metadata": {},
   "source": [
    "# Declare Functions used in this assignment"
   ]
  },
  {
   "cell_type": "code",
   "execution_count": 68,
   "metadata": {},
   "outputs": [],
   "source": [
    "def plot_pdf_log_normal(data, x_label):\n",
    "    resolution = 1000  # How many points to sample from the PDF of the normal distribution\n",
    "    x_norm = np.linspace(0, data, resolution)\n",
    "    y_norm = scipy.stats.norm.pdf(\n",
    "      x_norm, # Where we want to evaluate the PDF\n",
    "      loc=np.mean(data), # The mean of the distribution\n",
    "      scale=np.std(data)) # The std deviation of the distribution\n",
    "    \n",
    "    x_log_norm = np.linspace(0, data.apply(np.log), resolution)\n",
    "    y_log_norm = scipy.stats.norm.pdf(\n",
    "      x_log_norm, # Where we want to evaluate the PDF of log value\n",
    "      loc=np.mean(data.apply(np.log)), # The mean of the distribution of log value\n",
    "      scale=np.std(data.apply(np.log))) # The std deviation of the distribution of log value\n",
    "    \n",
    "    pyplot.subplot(2, 1, 1) # The first plot\n",
    "    pyplot.hist(data, normed=True, color='white', edgecolor='black')\n",
    "    pyplot.title(f'Density of {x_label} & Log-{x_label}')\n",
    "    pyplot.plot(x_norm, y_norm, color='red')\n",
    "    pyplot.xlabel(f'{x_label} values')\n",
    "    pyplot.ylabel('Count')\n",
    "    \n",
    "    pyplot.subplot(2, 1, 2) # The next plot\n",
    "    pyplot.hist(data.apply(np.log), normed=True, color='white', edgecolor='black')\n",
    "    pyplot.plot(x_log_norm, y_log_norm, color='red')\n",
    "    pyplot.ylabel('Count')"
   ]
  },
  {
   "cell_type": "code",
   "execution_count": 69,
   "metadata": {},
   "outputs": [],
   "source": [
    "def compute_summary_statistics(data, label, method):\n",
    "    # Compute a list of 500 sample means from sample of size 50 from the population distribution depend on the provide method\n",
    "    n_replicas = 500\n",
    "    n_size = 50\n",
    "    \n",
    "    if method == 'Classical Method':\n",
    "        x_means = np.array([\n",
    "            np.random.choice(data, size=n_size, replace=True).mean()\n",
    "            for i in range(n_replicas)])\n",
    "    elif method == 'Bootstrap Method':\n",
    "        x_means = pd.Series([\n",
    "            data.sample(n=n_size, replace=True).mean()\n",
    "            for i in range(n_replicas)])\n",
    "    elif method == 'Bayesian Method':\n",
    "        # Bayesian won't replace the population after sampling. \n",
    "        # Therefore, we need to calculate the maximum times (range) we can resampling\n",
    "        n_range = (int)(np.floor(len(data)/n_size))\n",
    "        x_means = pd.Series([\n",
    "            data.sample(n=n_size).mean()\n",
    "            for i in range(n_range)])\n",
    "        # Based on the UCI Machine Learning Repository Automobile Data Set's Name file, following is the possible values for each columns\n",
    "        # price:                    continuous from 5118 to 45400\n",
    "        # bore:                     continuous from 2.54 to 3.94\n",
    "        # stroke:                   continuous from 2.07 to 4.17\n",
    "        # horsepower:               continuous from 48 to 288\n",
    "        # peak-rpm:                 continuous from 4150 to 6600\n",
    "        if label == 'price':\n",
    "            p = np.linspace(5118, 45400, num=n_replicas) # prio disribution for price\n",
    "        elif label == 'bore':\n",
    "            p = np.linspace(2.54, 3.94, num=n_replicas) # prio disribution for bore\n",
    "        elif label == 'stroke':\n",
    "            p = np.linspace(2.07, 4.17, num=n_replicas) # prio disribution for stroke\n",
    "        elif label == 'horsepower':\n",
    "            p = np.linspace(48, 288, num=n_replicas) # prio disribution for horsepower\n",
    "        elif label == 'peak-rpm':\n",
    "            p = np.linspace(4150, 6600, num=n_replicas) # prio disribution for peak-rpm\n",
    "        \n",
    "        # prior distribution (normal), sd = 5 (dummy prior since we don't know)\n",
    "        pp = scipy.stats.norm.pdf(p, loc=x_means.mean(), scale=5) \n",
    "        pp = pp / pp.sum() # normalize that prior\n",
    "\n",
    "        like = normal_like(p, x_means) # compute the likelihood\n",
    "        post = posterior(pp, like) # compute the posterior distribution\n",
    "    \n",
    "    pop_mean = np.mean(x_means) # sample mean\n",
    "    pop_std = np.std(x_means) # sample standard distribution\n",
    "    \n",
    "    print(f'\\033[1m\\033[4mSummary Statistics ({method}) of: {label}\\033[0m')\n",
    "    print('Estimated mean (%.3f) vs actual mean (%.3f)' % (pop_mean, np.mean(data)))\n",
    "    print('Estimated s.d. (%.3f) vs actual s.d. (%.3f)' % (pop_std, np.std(data)))\n",
    "    print('-----------------------------------------------------')\n",
    "    \n",
    "    if method == 'Bayesian Method':\n",
    "        return pop_mean, pop_std, p, post\n",
    "    else:\n",
    "        return pop_mean, pop_std"
   ]
  },
  {
   "cell_type": "code",
   "execution_count": 70,
   "metadata": {},
   "outputs": [],
   "source": [
    "def compute_confidence_intervals(data, pop_mean, pop_std, label, method, p = [], post = []):\n",
    "    # Compute the 95% confident interval depend on the provide method\n",
    "    if method == 'Bayesian Method':\n",
    "        num_samples = 100000\n",
    "        upper_q=.975\n",
    "        lower_q=.025\n",
    "        samples = np.random.choice(p, size=num_samples, replace=True, p=post)\n",
    "        ci = scipy.percentile(samples, [lower_q*100, upper_q*100])\n",
    "        interval = upper_q - lower_q\n",
    "        print(f'\\033[1m\\033[4m95% Credible Intervals ({method}) of: {label}\\033[0m')\n",
    "        print('The %.3f credible interval is %.3f to %.3f' % (interval, ci[0], ci[1]))\n",
    "        print('-----------------------------------------------------')\n",
    "    else:    \n",
    "        alpha = 0.95\n",
    "        half_width = scipy.stats.norm.ppf((1 + alpha)/2, loc=pop_mean, scale=pop_std) - pop_mean\n",
    "        ci_low = pop_mean - half_width\n",
    "        ci_high = pop_mean + half_width\n",
    "        print(f'\\033[1m\\033[4m95% Confident Intervals ({method}) of: {label}\\033[0m')\n",
    "        print('The half width is %.2f' % half_width)\n",
    "        print('The actual mean is %.2f' % np.mean(data))\n",
    "        print('The %.2f level CI is (%.2f , %.2f)' % (alpha, ci_low, ci_high))\n",
    "        print('-----------------------------------------------------')"
   ]
  },
  {
   "cell_type": "code",
   "execution_count": 71,
   "metadata": {},
   "outputs": [],
   "source": [
    "# Function to plot the histogram with mean value (as a red vertcal line)\n",
    "def hist_plot(vec, bins):\n",
    "    pyplot.hist(vec, bins = bins)\n",
    "    pyplot.axvline(np.mean(vec), color = 'red') # Add a vertical line across the axes\n",
    "    pyplot.ylabel('Frequency')\n",
    "    pyplot.xlabel('Value')"
   ]
  },
  {
   "cell_type": "code",
   "execution_count": 72,
   "metadata": {},
   "outputs": [],
   "source": [
    "# Function to plot the histogram with confident inverval as the red vertical lines\n",
    "def hist_mean_ci(vec, t_test, bins):\n",
    "    upper = np.mean(vec) + t_test[5] - t_test[1]\n",
    "    lower = np.mean(vec) + t_test[4] - t_test[1]\n",
    "    pyplot.hist(vec, bins = bins)\n",
    "    pyplot.axvline(np.mean(vec), color = 'red')\n",
    "    pyplot.axvline(upper, color = 'red', linestyle='--')\n",
    "    pyplot.axvline(lower, color = 'red', linestyle='--')\n",
    "    pyplot.ylabel('Frequency')\n",
    "    pyplot.xlabel('Value')"
   ]
  },
  {
   "cell_type": "code",
   "execution_count": 73,
   "metadata": {},
   "outputs": [],
   "source": [
    "# Function to calculate the t-test statistics\n",
    "def t_test(a, b, alpha, alternative='two-sided'):\n",
    "    diff = a.mean() - b.mean() # the mean different of two samples\n",
    "\n",
    "    res = scipy.stats.ttest_ind(a, b, equal_var=False) # return The calculated t-statistic and the p-value\n",
    "      \n",
    "    means = ws.CompareMeans(ws.DescrStatsW(a), ws.DescrStatsW(b))\n",
    "    confint = means.tconfint_diff(alpha=alpha, alternative=alternative, usevar='unequal') # computed the confident interval\n",
    "    degfree = means.dof_satt() # use Welch’s T-test to get the degree of freedom\n",
    "\n",
    "    index = ['DegFreedom', 'Difference', 'Statistic', 'PValue', 'Low95CI', 'High95CI'] # upper & local confident interval\n",
    "    return pd.Series([degfree, diff, res[0], res[1], confint[0], confint[1]], index = index) "
   ]
  },
  {
   "cell_type": "code",
   "execution_count": 74,
   "metadata": {},
   "outputs": [],
   "source": [
    "# Function to plot the histogram of the t-test\n",
    "def plot_t(a, b, t_test, cols, nbins = 20):\n",
    "    minx = min([min(a), min(b)])\n",
    "    maxx = max([max(a), max(b)])\n",
    "    stepx = (maxx - minx)/(nbins + 1)\n",
    "    bins = [minx + i * stepx for i in range(nbins + 1)]\n",
    "    pyplot.subplot(2, 1, 1) # The first plot\n",
    "    hist_mean_ci(a, t_test, bins)\n",
    "    pyplot.title('Histograme of ' + cols[0] + ' and ' + cols[1])\n",
    "    pyplot.subplot(2, 1, 2) # The next plot\n",
    "    hist_plot(b, bins)"
   ]
  },
  {
   "cell_type": "code",
   "execution_count": 75,
   "metadata": {},
   "outputs": [],
   "source": [
    "# Function to caulculate the posterios distribution\n",
    "def posterior(prior, like):\n",
    "    post = prior * like # compute the product of the probabilities\n",
    "    return post / sum(post) # normalize the distribution to sum to unity"
   ]
  },
  {
   "cell_type": "code",
   "execution_count": 76,
   "metadata": {},
   "outputs": [],
   "source": [
    "# Compute the likelihood of the normal distributipon\n",
    "def normal_like(p, x):\n",
    "    variance = np.std(x)**2 # sigma square (impirical standard deviation)\n",
    "    x_mean = np.asarray(x).mean() # mean\n",
    "    n = len(x)\n",
    "    l = np.exp(-n * np.square(x_mean - p) / (2 * variance)) # normal distribution probability density function\n",
    "    return l / l.sum() # normalize that PDF"
   ]
  },
  {
   "cell_type": "code",
   "execution_count": 77,
   "metadata": {},
   "outputs": [],
   "source": [
    "def plot_ci(p1, p2, post1, post2, num_samples, lower_q, upper_q, title):\n",
    "    ## This function computes a credible interval using an assumption\n",
    "    ## of symetry in the bulk of the distribution to keep the calculation simple\n",
    "    ## Compute a large sample by resampling with replacement\n",
    "    \n",
    "    # Sample 1\n",
    "    samples1 = np.random.choice(p1, size=num_samples, replace=True, p=post1)\n",
    "    ci1 = scipy.percentile(samples1, [lower_q*100, upper_q*100]) # compute the quantiles\n",
    "    # Sample 2\n",
    "    samples2 = np.random.choice(p2, size=num_samples, replace=True, p=post2)\n",
    "    ci2 = scipy.percentile(samples2, [lower_q*100, upper_q*100])# compute the quantiles\n",
    "    \n",
    "    interval = upper_q - lower_q\n",
    "    \n",
    "    pyplot.title('Posterior density with %.3f credible interval between %s' % (interval,title))\n",
    "    pyplot.xlabel('Parameter value')\n",
    "    pyplot.ylabel('Density')\n",
    "    \n",
    "    pyplot.subplot(2, 1, 1) # The first plot\n",
    "    pyplot.plot(p1, post1, color='blue')\n",
    "    pyplot.axvline(x=ci1[0], color='red')\n",
    "    pyplot.axvline(x=ci1[1], color='red')\n",
    "    \n",
    "    pyplot.subplot(2, 1, 2) # The next plot\n",
    "    pyplot.plot(p2, post2, color='green')\n",
    "    pyplot.axvline(x=ci2[0], color='yellow')\n",
    "    pyplot.axvline(x=ci2[1], color='yellow')"
   ]
  },
  {
   "cell_type": "markdown",
   "metadata": {},
   "source": [
    "## 1. Identify a likely distribution for price and several other features\n",
    "In this assignment, I'll primary focus on the continuous random variables. Aside from the **price**, I also pick several other features such as **bore**, **stroke**, **horsepower** and **peak-rpm**.\n",
    "\n",
    "Based on the UCI Machine Learning Repository Automobile Data Set's Name file (https://archive.ics.uci.edu/ml/machine-learning-databases/autos/imports-85.names), I listed all the possible values for each selected columns as the following:\n",
    "1. **price**:                    continuous from 5118 to 45400\n",
    "2. **bore**:                     continuous from 2.54 to 3.94\n",
    "3. **stroke**:                   continuous from 2.07 to 4.17\n",
    "4. **horsepower**:               continuous from 48 to 288\n",
    "5. **peak-rpm**:                 continuous from 4150 to 6600\n",
    "\n",
    "**Note:** Based on Lesson 3, those quantities one can mesure in only defined range $0 \\lt x \\le \\infty$. Therefore, we pretty sure that some of these features will have **Log-Normal Distribution**."
   ]
  },
  {
   "cell_type": "code",
   "execution_count": 78,
   "metadata": {},
   "outputs": [
    {
     "data": {
      "image/png": "[encoded data removed]",
      "text/plain": [
       "<Figure size 432x288 with 2 Axes>"
      ]
     },
     "metadata": {
      "needs_background": "light"
     },
     "output_type": "display_data"
    }
   ],
   "source": [
    "# Plot the histogram of the price & log-price columns\n",
    "plot_pdf_log_normal(auto_price.loc[:,'price'], 'Price')"
   ]
  },
  {
   "cell_type": "code",
   "execution_count": 79,
   "metadata": {},
   "outputs": [
    {
     "data": {
      "image/png": "[encoded data removed]",
      "text/plain": [
       "<Figure size 432x288 with 2 Axes>"
      ]
     },
     "metadata": {
      "needs_background": "light"
     },
     "output_type": "display_data"
    }
   ],
   "source": [
    "# Plot the histogram of the bore & log-bore columns\n",
    "plot_pdf_log_normal(auto_price.loc[:,'bore'], 'Bore')"
   ]
  },
  {
   "cell_type": "code",
   "execution_count": 80,
   "metadata": {},
   "outputs": [
    {
     "data": {
      "image/png": "[encoded data removed]",
      "text/plain": [
       "<Figure size 432x288 with 2 Axes>"
      ]
     },
     "metadata": {
      "needs_background": "light"
     },
     "output_type": "display_data"
    }
   ],
   "source": [
    "# Plot the histogram of the stroke & log-stroke column\n",
    "plot_pdf_log_normal(auto_price.loc[:,'stroke'], 'Stroke')"
   ]
  },
  {
   "cell_type": "code",
   "execution_count": 81,
   "metadata": {},
   "outputs": [
    {
     "data": {
      "image/png": "[encoded data removed]",
      "text/plain": [
       "<Figure size 432x288 with 2 Axes>"
      ]
     },
     "metadata": {
      "needs_background": "light"
     },
     "output_type": "display_data"
    }
   ],
   "source": [
    "# Plot the histogram of the horsepower & log-horsepower column\n",
    "plot_pdf_log_normal(auto_price.loc[:,'horsepower'], 'HorsePower')"
   ]
  },
  {
   "cell_type": "code",
   "execution_count": 82,
   "metadata": {},
   "outputs": [
    {
     "data": {
      "image/png": "[encoded data removed]",
      "text/plain": [
       "<Figure size 432x288 with 2 Axes>"
      ]
     },
     "metadata": {
      "needs_background": "light"
     },
     "output_type": "display_data"
    }
   ],
   "source": [
    "# Plot the histogram of the peak-rpm & log-peak-rpm column\n",
    "plot_pdf_log_normal(auto_price.loc[:,'peak-rpm'], 'Peak Rpm')"
   ]
  },
  {
   "cell_type": "markdown",
   "metadata": {},
   "source": [
    "***\n",
    "### Summary\n",
    "\n",
    "- **Log-Normal Distribution:** We found that **price** and **horsepower** columns have Log-Normal Distribution. This may be due to the wide unit range of values.\n",
    "- **Normal Distribution:** We founc that **bore**, **stroke** and **peak-rpm** columns have Normal Distribution. This may be due to the small range of values.\n",
    "***"
   ]
  },
  {
   "cell_type": "markdown",
   "metadata": {},
   "source": [
    "## 2. Compute basic summary statistics by both Classical, Bootstrap and Bayesian methods"
   ]
  },
  {
   "cell_type": "markdown",
   "metadata": {},
   "source": [
    "### a) Classical Method"
   ]
  },
  {
   "cell_type": "code",
   "execution_count": 83,
   "metadata": {},
   "outputs": [
    {
     "name": "stdout",
     "output_type": "stream",
     "text": [
      "\u001b[1m\u001b[4mSummary Statistics (Classical Method) of: price\u001b[0m\n",
      "Estimated mean (13248.157) vs actual mean (13248.015)\n",
      "Estimated s.d. (1205.089) vs actual s.d. (8035.646)\n",
      "-----------------------------------------------------\n",
      "\u001b[1m\u001b[4mSummary Statistics (Classical Method) of: bore\u001b[0m\n",
      "Estimated mean (3.328) vs actual mean (3.329)\n",
      "Estimated s.d. (0.036) vs actual s.d. (0.271)\n",
      "-----------------------------------------------------\n",
      "\u001b[1m\u001b[4mSummary Statistics (Classical Method) of: stroke\u001b[0m\n",
      "Estimated mean (3.251) vs actual mean (3.250)\n",
      "Estimated s.d. (0.042) vs actual s.d. (0.313)\n",
      "-----------------------------------------------------\n",
      "\u001b[1m\u001b[4mSummary Statistics (Classical Method) of: horsepower\u001b[0m\n",
      "Estimated mean (103.353) vs actual mean (103.272)\n",
      "Estimated s.d. (5.567) vs actual s.d. (37.773)\n",
      "-----------------------------------------------------\n",
      "\u001b[1m\u001b[4mSummary Statistics (Classical Method) of: peak-rpm\u001b[0m\n",
      "Estimated mean (5099.890) vs actual mean (5099.487)\n",
      "Estimated s.d. (66.471) vs actual s.d. (467.069)\n",
      "-----------------------------------------------------\n"
     ]
    }
   ],
   "source": [
    "# Summary Statistic (classical method) of several features\n",
    "classical_pop_means = []\n",
    "classical_pop_stds = []\n",
    "for column in cols:\n",
    "    mean, std = compute_summary_statistics(auto_price.loc[:,column], column, 'Classical Method')\n",
    "    classical_pop_means.append(mean)\n",
    "    classical_pop_stds.append(std)"
   ]
  },
  {
   "cell_type": "markdown",
   "metadata": {},
   "source": [
    "### b) Bootstrap Method"
   ]
  },
  {
   "cell_type": "code",
   "execution_count": 84,
   "metadata": {},
   "outputs": [
    {
     "name": "stdout",
     "output_type": "stream",
     "text": [
      "\u001b[1m\u001b[4mSummary Statistics (Bootstrap Method) of: price\u001b[0m\n",
      "Estimated mean (13187.534) vs actual mean (13248.015)\n",
      "Estimated s.d. (1198.205) vs actual s.d. (8035.646)\n",
      "-----------------------------------------------------\n",
      "\u001b[1m\u001b[4mSummary Statistics (Bootstrap Method) of: bore\u001b[0m\n",
      "Estimated mean (3.327) vs actual mean (3.329)\n",
      "Estimated s.d. (0.041) vs actual s.d. (0.271)\n",
      "-----------------------------------------------------\n",
      "\u001b[1m\u001b[4mSummary Statistics (Bootstrap Method) of: stroke\u001b[0m\n",
      "Estimated mean (3.248) vs actual mean (3.250)\n",
      "Estimated s.d. (0.045) vs actual s.d. (0.313)\n",
      "-----------------------------------------------------\n",
      "\u001b[1m\u001b[4mSummary Statistics (Bootstrap Method) of: horsepower\u001b[0m\n",
      "Estimated mean (102.939) vs actual mean (103.272)\n",
      "Estimated s.d. (5.130) vs actual s.d. (37.773)\n",
      "-----------------------------------------------------\n",
      "\u001b[1m\u001b[4mSummary Statistics (Bootstrap Method) of: peak-rpm\u001b[0m\n",
      "Estimated mean (5095.598) vs actual mean (5099.487)\n",
      "Estimated s.d. (65.623) vs actual s.d. (467.069)\n",
      "-----------------------------------------------------\n"
     ]
    }
   ],
   "source": [
    "# Summary Statistic (bootstrap method) of several features\n",
    "bootstrap_pop_means = []\n",
    "bootstrap_pop_stds = []\n",
    "for column in cols:\n",
    "    mean, std = compute_summary_statistics(auto_price.loc[:,column], column, 'Bootstrap Method')\n",
    "    bootstrap_pop_means.append(mean)\n",
    "    bootstrap_pop_stds.append(std)"
   ]
  },
  {
   "cell_type": "markdown",
   "metadata": {},
   "source": [
    "### c) Bayesian Method"
   ]
  },
  {
   "cell_type": "code",
   "execution_count": 85,
   "metadata": {},
   "outputs": [
    {
     "name": "stdout",
     "output_type": "stream",
     "text": [
      "\u001b[1m\u001b[4mSummary Statistics (Bayesian Method) of: price\u001b[0m\n",
      "Estimated mean (13959.180) vs actual mean (13248.015)\n",
      "Estimated s.d. (847.693) vs actual s.d. (8035.646)\n",
      "-----------------------------------------------------\n",
      "\u001b[1m\u001b[4mSummary Statistics (Bayesian Method) of: bore\u001b[0m\n",
      "Estimated mean (3.346) vs actual mean (3.329)\n",
      "Estimated s.d. (0.021) vs actual s.d. (0.271)\n",
      "-----------------------------------------------------\n",
      "\u001b[1m\u001b[4mSummary Statistics (Bayesian Method) of: stroke\u001b[0m\n",
      "Estimated mean (3.275) vs actual mean (3.250)\n",
      "Estimated s.d. (0.011) vs actual s.d. (0.313)\n",
      "-----------------------------------------------------\n",
      "\u001b[1m\u001b[4mSummary Statistics (Bayesian Method) of: horsepower\u001b[0m\n",
      "Estimated mean (108.973) vs actual mean (103.272)\n",
      "Estimated s.d. (5.940) vs actual s.d. (37.773)\n",
      "-----------------------------------------------------\n",
      "\u001b[1m\u001b[4mSummary Statistics (Bayesian Method) of: peak-rpm\u001b[0m\n",
      "Estimated mean (5100.333) vs actual mean (5099.487)\n",
      "Estimated s.d. (30.652) vs actual s.d. (467.069)\n",
      "-----------------------------------------------------\n"
     ]
    }
   ],
   "source": [
    "# Summary Statistic (Bayesian method) of several features\n",
    "bayesian_pop_means = []\n",
    "bayesian_pop_stds = []\n",
    "bayesian_pop_p = []\n",
    "bayesian_pop_posterior = []\n",
    "for column in cols:\n",
    "    mean, std, p, post = compute_summary_statistics(auto_price.loc[:,column], column, 'Bayesian Method')\n",
    "    bayesian_pop_means.append(mean)\n",
    "    bayesian_pop_stds.append(std)\n",
    "    bayesian_pop_p.append(p)\n",
    "    bayesian_pop_posterior.append(post)"
   ]
  },
  {
   "cell_type": "markdown",
   "metadata": {},
   "source": [
    "***\n",
    "### Summary\n",
    "\n",
    "- **Mean:** We found that **All three methods** yield similar mean values for each features.\n",
    "- **Standard Deviation:** We found that **Bayesian method** yeild the smallest value compared with other two methods.\n",
    "***"
   ]
  },
  {
   "cell_type": "markdown",
   "metadata": {},
   "source": [
    "## 3. Compute confidence intervals for the above summary statistics by Classical, Bootstrap and Bayesian methods"
   ]
  },
  {
   "cell_type": "markdown",
   "metadata": {},
   "source": [
    "### a) Classical Method"
   ]
  },
  {
   "cell_type": "code",
   "execution_count": 87,
   "metadata": {},
   "outputs": [
    {
     "name": "stdout",
     "output_type": "stream",
     "text": [
      "\u001b[1m\u001b[4m95% Confident Intervals (Classical Method) of: price\u001b[0m\n",
      "The half width is 2361.93\n",
      "The actual mean is 13248.02\n",
      "The 0.95 level CI is (10886.23 , 15610.09)\n",
      "-----------------------------------------------------\n",
      "\u001b[1m\u001b[4m95% Confident Intervals (Classical Method) of: bore\u001b[0m\n",
      "The half width is 0.07\n",
      "The actual mean is 3.33\n",
      "The 0.95 level CI is (3.26 , 3.40)\n",
      "-----------------------------------------------------\n",
      "\u001b[1m\u001b[4m95% Confident Intervals (Classical Method) of: stroke\u001b[0m\n",
      "The half width is 0.08\n",
      "The actual mean is 3.25\n",
      "The 0.95 level CI is (3.17 , 3.33)\n",
      "-----------------------------------------------------\n",
      "\u001b[1m\u001b[4m95% Confident Intervals (Classical Method) of: horsepower\u001b[0m\n",
      "The half width is 10.91\n",
      "The actual mean is 103.27\n",
      "The 0.95 level CI is (92.44 , 114.26)\n",
      "-----------------------------------------------------\n",
      "\u001b[1m\u001b[4m95% Confident Intervals (Classical Method) of: peak-rpm\u001b[0m\n",
      "The half width is 130.28\n",
      "The actual mean is 5099.49\n",
      "The 0.95 level CI is (4969.61 , 5230.17)\n",
      "-----------------------------------------------------\n"
     ]
    }
   ],
   "source": [
    "i = 0\n",
    "for column in cols: # loop through all the mean and sd value's arrays coomputed from the summary statistics section\n",
    "    compute_confidence_intervals(auto_price.loc[:,column], classical_pop_means[i], classical_pop_stds[i], column, 'Classical Method')\n",
    "    i += 1"
   ]
  },
  {
   "cell_type": "markdown",
   "metadata": {},
   "source": [
    "### b) Bootstrap Method"
   ]
  },
  {
   "cell_type": "code",
   "execution_count": 88,
   "metadata": {},
   "outputs": [
    {
     "name": "stdout",
     "output_type": "stream",
     "text": [
      "\u001b[1m\u001b[4m95% Confident Intervals (Bootstrap Method) of: price\u001b[0m\n",
      "The half width is 2348.44\n",
      "The actual mean is 13248.02\n",
      "The 0.95 level CI is (10839.10 , 15535.97)\n",
      "-----------------------------------------------------\n",
      "\u001b[1m\u001b[4m95% Confident Intervals (Bootstrap Method) of: bore\u001b[0m\n",
      "The half width is 0.08\n",
      "The actual mean is 3.33\n",
      "The 0.95 level CI is (3.25 , 3.41)\n",
      "-----------------------------------------------------\n",
      "\u001b[1m\u001b[4m95% Confident Intervals (Bootstrap Method) of: stroke\u001b[0m\n",
      "The half width is 0.09\n",
      "The actual mean is 3.25\n",
      "The 0.95 level CI is (3.16 , 3.34)\n",
      "-----------------------------------------------------\n",
      "\u001b[1m\u001b[4m95% Confident Intervals (Bootstrap Method) of: horsepower\u001b[0m\n",
      "The half width is 10.05\n",
      "The actual mean is 103.27\n",
      "The 0.95 level CI is (92.88 , 112.99)\n",
      "-----------------------------------------------------\n",
      "\u001b[1m\u001b[4m95% Confident Intervals (Bootstrap Method) of: peak-rpm\u001b[0m\n",
      "The half width is 128.62\n",
      "The actual mean is 5099.49\n",
      "The 0.95 level CI is (4966.98 , 5224.22)\n",
      "-----------------------------------------------------\n"
     ]
    }
   ],
   "source": [
    "i = 0\n",
    "for column in cols: # loop through all the mean and sd value's arrays coomputed from the summary statistics section\n",
    "    compute_confidence_intervals(auto_price.loc[:,column], bootstrap_pop_means[i], bootstrap_pop_stds[i], column, 'Bootstrap Method')\n",
    "    i += 1"
   ]
  },
  {
   "cell_type": "markdown",
   "metadata": {},
   "source": [
    "### c) Bayesian Method"
   ]
  },
  {
   "cell_type": "code",
   "execution_count": 89,
   "metadata": {},
   "outputs": [
    {
     "name": "stdout",
     "output_type": "stream",
     "text": [
      "\u001b[1m\u001b[4m95% Credible Intervals (Bayesian Method) of: price\u001b[0m\n",
      "The 0.950 credible interval is 13997.800 to 13997.800\n",
      "-----------------------------------------------------\n",
      "\u001b[1m\u001b[4m95% Credible Intervals (Bayesian Method) of: bore\u001b[0m\n",
      "The 0.950 credible interval is 3.323 to 3.370\n",
      "-----------------------------------------------------\n",
      "\u001b[1m\u001b[4m95% Credible Intervals (Bayesian Method) of: stroke\u001b[0m\n",
      "The 0.950 credible interval is 3.261 to 3.286\n",
      "-----------------------------------------------------\n",
      "\u001b[1m\u001b[4m95% Credible Intervals (Bayesian Method) of: horsepower\u001b[0m\n",
      "The 0.950 credible interval is 103.311 to 114.373\n",
      "-----------------------------------------------------\n",
      "\u001b[1m\u001b[4m95% Credible Intervals (Bayesian Method) of: peak-rpm\u001b[0m\n",
      "The 0.950 credible interval is 5092.685 to 5107.415\n",
      "-----------------------------------------------------\n"
     ]
    }
   ],
   "source": [
    "i = 0\n",
    "for column in cols: # loop through all the mean, sd, prior and posteria distribution value's arrays coomputed from the summary statistics section\n",
    "    compute_confidence_intervals(auto_price.loc[:,column], bayesian_pop_means[i], bayesian_pop_stds[i], column, 'Bayesian Method', bayesian_pop_p[i], bayesian_pop_posterior[i])\n",
    "    i += 1"
   ]
  },
  {
   "cell_type": "markdown",
   "metadata": {},
   "source": [
    "***\n",
    "### Summary\n",
    "\n",
    "- **For Classical & Bootstrap Methods:** Both yield the similar values of 95% Confident Intervals\n",
    "- **For Bayesian Method:** The 95% Credible Intervals slightly shifted to the right compared with the 95% Confident Intervals from Classical & Bootstrap Methods.\n",
    "***"
   ]
  },
  {
   "cell_type": "markdown",
   "metadata": {},
   "source": [
    "## 4. Correctly use hypothesis tests to determine if the differences in pairs and multiple populations are significant\n",
    "I decide to pick the comparison pair between **price** and **horsepower** since both of them have Log-Normal Distribution. We want to test the **Central Limit Theorem** which stated that after sampling a population many times, the distribution of means of all samples are normally distributed, regardless of the population distribution."
   ]
  },
  {
   "cell_type": "markdown",
   "metadata": {},
   "source": [
    "### a) Classical tests"
   ]
  },
  {
   "cell_type": "code",
   "execution_count": 90,
   "metadata": {},
   "outputs": [
    {
     "data": {
      "text/plain": [
       "DegFreedom    1.998000e+03\n",
       "Difference   -2.572165e-15\n",
       "Statistic    -5.748659e-14\n",
       "PValue        1.000000e+00\n",
       "Low95CI      -8.774927e-02\n",
       "High95CI      8.774927e-02\n",
       "dtype: float64"
      ]
     },
     "execution_count": 90,
     "metadata": {},
     "output_type": "execute_result"
    }
   ],
   "source": [
    "# Compute a list of 1000 sample means from sample of size 100 from the population distribution for both price and horsepower\n",
    "price_classical_means_scale = scale(np.array([\n",
    "    np.random.choice(auto_price.loc[:,'price'], size=100, replace=True).mean()\n",
    "    for i in range(1000)])) # scale the price's mean\n",
    "horsepower_classical_means_scale = scale(np.array([\n",
    "    np.random.choice(auto_price.loc[:,'horsepower'], size=100, replace=True).mean()\n",
    "    for i in range(1000)])) # scale the horsepower's mean\n",
    "\n",
    "# Compute the t-statistics between price's means & horsepower's scaled mean\n",
    "test_price_horsepower_classical = t_test(price_classical_means_scale, horsepower_classical_means_scale, 0.05)\n",
    "test_price_horsepower_classical"
   ]
  },
  {
   "cell_type": "code",
   "execution_count": 51,
   "metadata": {},
   "outputs": [
    {
     "data": {
      "image/png": "[encoded data removed]",
      "text/plain": [
       "<Figure size 432x288 with 2 Axes>"
      ]
     },
     "metadata": {
      "needs_background": "light"
     },
     "output_type": "display_data"
    }
   ],
   "source": [
    "plot_t(price_classical_means_scale, horsepower_classical_means_scale, test_price_horsepower_classical, ['price', 'horsepower']) "
   ]
  },
  {
   "cell_type": "markdown",
   "metadata": {},
   "source": [
    "#### Examine the results:\n",
    "1. The t-statistic is small, the **p-value is large**, and the **confidence interval of the difference of the means overlap zero**. We have to **accept the null hypothesis** that both means are the same between price and horsepower. The different in means are not significant.\n",
    "2. The **mean of the second group (gas) falls inside the confidence interval**, confirming that **there is a high chance that the difference in means is from random variation alone**.\n",
    "3. This prove the Central Limit Theorem."
   ]
  },
  {
   "cell_type": "markdown",
   "metadata": {},
   "source": [
    "### b) Tukey’s Honest Significant Differences (HSD)"
   ]
  },
  {
   "cell_type": "code",
   "execution_count": 91,
   "metadata": {},
   "outputs": [],
   "source": [
    "# Since pairwise_tukeyhsd method from Stats Models need three groups as a minimum\n",
    "# I decide to add bore's feature to the plot\n",
    "bore_classical_means_scale = scale(np.array([\n",
    "    np.random.choice(auto_price.loc[:,'bore'], size=100, replace=True).mean()\n",
    "    for i in range(1000)]).tolist()) # scale the bore's mean"
   ]
  },
  {
   "cell_type": "code",
   "execution_count": 92,
   "metadata": {},
   "outputs": [
    {
     "data": {
      "text/html": [
       "<div>\n",
       "<style scoped>\n",
       "    .dataframe tbody tr th:only-of-type {\n",
       "        vertical-align: middle;\n",
       "    }\n",
       "\n",
       "    .dataframe tbody tr th {\n",
       "        vertical-align: top;\n",
       "    }\n",
       "\n",
       "    .dataframe thead th {\n",
       "        text-align: right;\n",
       "    }\n",
       "</style>\n",
       "<table border=\"1\" class=\"dataframe\">\n",
       "  <thead>\n",
       "    <tr style=\"text-align: right;\">\n",
       "      <th></th>\n",
       "      <th>vals</th>\n",
       "      <th>group_num</th>\n",
       "    </tr>\n",
       "  </thead>\n",
       "  <tbody>\n",
       "    <tr>\n",
       "      <th>0</th>\n",
       "      <td>0.122123</td>\n",
       "      <td>1</td>\n",
       "    </tr>\n",
       "    <tr>\n",
       "      <th>1</th>\n",
       "      <td>1.278934</td>\n",
       "      <td>1</td>\n",
       "    </tr>\n",
       "    <tr>\n",
       "      <th>2</th>\n",
       "      <td>-0.500726</td>\n",
       "      <td>1</td>\n",
       "    </tr>\n",
       "    <tr>\n",
       "      <th>3</th>\n",
       "      <td>-0.220700</td>\n",
       "      <td>1</td>\n",
       "    </tr>\n",
       "    <tr>\n",
       "      <th>4</th>\n",
       "      <td>-0.271115</td>\n",
       "      <td>1</td>\n",
       "    </tr>\n",
       "    <tr>\n",
       "      <th>...</th>\n",
       "      <td>...</td>\n",
       "      <td>...</td>\n",
       "    </tr>\n",
       "    <tr>\n",
       "      <th>2995</th>\n",
       "      <td>0.309120</td>\n",
       "      <td>3</td>\n",
       "    </tr>\n",
       "    <tr>\n",
       "      <th>2996</th>\n",
       "      <td>0.471517</td>\n",
       "      <td>3</td>\n",
       "    </tr>\n",
       "    <tr>\n",
       "      <th>2997</th>\n",
       "      <td>-1.307629</td>\n",
       "      <td>3</td>\n",
       "    </tr>\n",
       "    <tr>\n",
       "      <th>2998</th>\n",
       "      <td>1.095842</td>\n",
       "      <td>3</td>\n",
       "    </tr>\n",
       "    <tr>\n",
       "      <th>2999</th>\n",
       "      <td>0.532867</td>\n",
       "      <td>3</td>\n",
       "    </tr>\n",
       "  </tbody>\n",
       "</table>\n",
       "<p>3000 rows × 2 columns</p>\n",
       "</div>"
      ],
      "text/plain": [
       "          vals group_num\n",
       "0     0.122123         1\n",
       "1     1.278934         1\n",
       "2    -0.500726         1\n",
       "3    -0.220700         1\n",
       "4    -0.271115         1\n",
       "...        ...       ...\n",
       "2995  0.309120         3\n",
       "2996  0.471517         3\n",
       "2997 -1.307629         3\n",
       "2998  1.095842         3\n",
       "2999  0.532867         3\n",
       "\n",
       "[3000 rows x 2 columns]"
      ]
     },
     "execution_count": 92,
     "metadata": {},
     "output_type": "execute_result"
    }
   ],
   "source": [
    "# Concatenate those three features (1 = price, 2 = horsepower, 3 = bore) with the group number into a data frame\n",
    "df = pd.DataFrame({'vals': np.concatenate((price_classical_means_scale, horsepower_classical_means_scale, bore_classical_means_scale)).flatten(),\n",
    "                   'group_num': ['1'] * 1000 + ['2'] * 1000 + ['3'] * 1000})\n",
    "df"
   ]
  },
  {
   "cell_type": "code",
   "execution_count": 93,
   "metadata": {},
   "outputs": [
    {
     "name": "stdout",
     "output_type": "stream",
     "text": [
      "Multiple Comparison of Means - Tukey HSD, FWER=0.05\n",
      "==================================================\n",
      "group1 group2 meandiff p-adj  lower  upper  reject\n",
      "--------------------------------------------------\n",
      "     1      2      0.0   0.9 -0.1049 0.1049  False\n",
      "     1      3      0.0   0.9 -0.1049 0.1049  False\n",
      "     2      3      0.0   0.9 -0.1049 0.1049  False\n",
      "--------------------------------------------------\n"
     ]
    }
   ],
   "source": [
    "# Compute Turkey's ANOVA\n",
    "Tukey_HSD = pairwise_tukeyhsd(df.vals, df.group_num)\n",
    "print(Tukey_HSD)"
   ]
  },
  {
   "cell_type": "code",
   "execution_count": 94,
   "metadata": {},
   "outputs": [
    {
     "data": {
      "text/plain": [
       "Text(0.5, 1.0, 'Box plot of variables')"
      ]
     },
     "execution_count": 94,
     "metadata": {},
     "output_type": "execute_result"
    },
    {
     "data": {
      "image/png": "[encoded data removed]",
      "text/plain": [
       "<Figure size 432x288 with 1 Axes>"
      ]
     },
     "metadata": {
      "needs_background": "light"
     },
     "output_type": "display_data"
    }
   ],
   "source": [
    "pyplot.boxplot([price_classical_means_scale, horsepower_classical_means_scale, bore_classical_means_scale])\n",
    "pyplot.ylabel('Value')\n",
    "pyplot.xlabel('Variable: 1 = price mean (scale), 2 = horsepower mean (scale), 3 = bore mean (scale)')\n",
    "pyplot.title('Box plot of variables')"
   ]
  },
  {
   "cell_type": "code",
   "execution_count": 95,
   "metadata": {},
   "outputs": [
    {
     "data": {
      "image/png": "[encoded data removed]",
      "text/plain": [
       "<Figure size 720x432 with 1 Axes>"
      ]
     },
     "execution_count": 95,
     "metadata": {},
     "output_type": "execute_result"
    },
    {
     "data": {
      "image/png": "[encoded data removed]",
      "text/plain": [
       "<Figure size 720x432 with 1 Axes>"
      ]
     },
     "metadata": {
      "needs_background": "light"
     },
     "output_type": "display_data"
    }
   ],
   "source": [
    "Tukey_HSD.plot_simultaneous()"
   ]
  },
  {
   "cell_type": "markdown",
   "metadata": {},
   "source": [
    "***\n",
    "#### Examine the results:\n",
    "1. **From the test result plots:** We found that the different in mean between **group 1 (price), group 2 (horsepower) and group 3 (bore)** are not significant at the confidence level since all confidence intervals are overlapped at 95% confident level.\n",
    "2. This prove the Central Limit Theorem.\n",
    "***"
   ]
  },
  {
   "cell_type": "markdown",
   "metadata": {},
   "source": [
    "### c) Bootstrap methods"
   ]
  },
  {
   "cell_type": "code",
   "execution_count": 96,
   "metadata": {},
   "outputs": [
    {
     "data": {
      "text/plain": [
       "DegFreedom    1.998000e+03\n",
       "Difference    2.630784e-15\n",
       "Statistic     5.879671e-14\n",
       "PValue        1.000000e+00\n",
       "Low95CI      -8.774927e-02\n",
       "High95CI      8.774927e-02\n",
       "dtype: float64"
      ]
     },
     "execution_count": 96,
     "metadata": {},
     "output_type": "execute_result"
    }
   ],
   "source": [
    "# Compute a list of 1000 sample means from sample of size 100 from the population distribution for both price and horsepower\n",
    "price_bootstrap_means = pd.Series([\n",
    "            auto_price.loc[:,'price'].sample(n=100, replace=True).mean()\n",
    "            for i in range(1000)])\n",
    "horsepower_bootstrap_means = pd.Series([\n",
    "            auto_price.loc[:,'horsepower'].sample(n=100, replace=True).mean()\n",
    "            for i in range(1000)]) \n",
    "\n",
    "price_bootstrap_means_scale = scale(price_bootstrap_means) # scale the price's mean\n",
    "horsepower_bootstrap_means_scale = scale(horsepower_bootstrap_means) # scale the horsepower's mean\n",
    "\n",
    "# Compute the t-statistics between price's means & horsepower's scaled mean\n",
    "test_price_horsepower_bootstrap = t_test(price_bootstrap_means_scale, horsepower_bootstrap_means_scale, 0.05)\n",
    "test_price_horsepower_bootstrap"
   ]
  },
  {
   "cell_type": "code",
   "execution_count": 97,
   "metadata": {},
   "outputs": [
    {
     "data": {
      "image/png": "[encoded data removed]",
      "text/plain": [
       "<Figure size 432x288 with 2 Axes>"
      ]
     },
     "metadata": {
      "needs_background": "light"
     },
     "output_type": "display_data"
    }
   ],
   "source": [
    "plot_t(price_bootstrap_means_scale, horsepower_bootstrap_means_scale, test_price_horsepower_bootstrap, ['price', 'horsepower']) "
   ]
  },
  {
   "cell_type": "markdown",
   "metadata": {},
   "source": [
    "#### Examine the results:\n",
    "1. The t-statistic is small, the **p-value is large**, and the **confidence interval of the difference of the means overlap zero**. We have to **accept the null hypothesis** that both means are the same between price and horsepower. The different in means are not significant.\n",
    "2. The **mean of the second group (gas) falls inside the confidence interval**, confirming that **there is a high chance that the difference in means is from random variation alone**.\n",
    "3. This prove the Central Limit Theorem."
   ]
  },
  {
   "cell_type": "markdown",
   "metadata": {},
   "source": [
    "### d) Bayesian model"
   ]
  },
  {
   "cell_type": "code",
   "execution_count": 64,
   "metadata": {},
   "outputs": [
    {
     "data": {
      "image/png": "[encoded data removed]",
      "text/plain": [
       "<Figure size 432x288 with 2 Axes>"
      ]
     },
     "metadata": {
      "needs_background": "light"
     },
     "output_type": "display_data"
    }
   ],
   "source": [
    "n_size = 50\n",
    "\n",
    "# Bayesian won't replace the population after sampling. \n",
    "# Therefore, we need to calculate the maximum times (range) we can resampling\n",
    "n_range = np.floor(len(auto_price)/n_size)\n",
    "\n",
    "price_data = auto_price.loc[:,'price'].copy()\n",
    "horsepower_data = auto_price.loc[:,'horsepower'].copy()\n",
    "\n",
    "price_bayesian_means = pd.Series([\n",
    "            price_data.sample(n=n_size).mean()\n",
    "            for i in range((int)(n_range))]) # resampling without replacement\n",
    "horsepower_bayesian_means = pd.Series([\n",
    "            horsepower_data.sample(n=n_size).mean()\n",
    "            for i in range((int)(n_range))]) # resampling without replacement\n",
    "\n",
    "price_bayesian_means_scale = scale(price_bayesian_means) # scale the price's mean\n",
    "horsepower_bayesian_means_scale = scale(horsepower_bayesian_means) # scale the horsepower's mean\n",
    "\n",
    "# Prior Distribution of Price & Horsepower\n",
    "p_price = np.linspace(min(price_bayesian_means_scale), max(price_bayesian_means_scale), num=1000)\n",
    "p_horsepower = np.linspace(min(horsepower_bayesian_means_scale), max(horsepower_bayesian_means_scale), num=1000)\n",
    "\n",
    "# Normalized Prior Distribution of Price\n",
    "pp_price = scipy.stats.norm.pdf(p_price, loc=price_bayesian_means_scale.mean(), scale=5) # prior distribution (normal), sd = 5 (uninformative prior)\n",
    "pp_price = pp_price / pp_price.sum() # normalize that prior\n",
    "\n",
    "# Normalized Prior Distribution of Price\n",
    "pp_horsepower = scipy.stats.norm.pdf(p_horsepower, loc=horsepower_bayesian_means_scale.mean(), scale=5) # prior distribution (normal), sd = 5 (uninformative prior)\n",
    "pp_horsepower = pp_horsepower / pp_horsepower.sum() # normalize that prior\n",
    "\n",
    "# Likelihood & Posterior of Price\n",
    "like_price_bayesian = normal_like(p_price, price_bayesian_means_scale)\n",
    "post_price_bayesian = posterior(pp_price, like_price_bayesian)\n",
    "\n",
    "# Likelihood & Posterior of Horsepower\n",
    "like_horsepower_bayesian = normal_like(p_horsepower, horsepower_bayesian_means_scale)\n",
    "post_horsepower_bayesian = posterior(pp_horsepower, like_horsepower_bayesian)\n",
    "\n",
    "# Plotting the Posterior distributions and CIs for Price & Horsepower\n",
    "plot_ci(p_price, p_horsepower, post_price_bayesian,  post_horsepower_bayesian, 1000, lower_q=.025, upper_q=.975, title='Price and Horse Power')"
   ]
  },
  {
   "cell_type": "markdown",
   "metadata": {},
   "source": [
    "***\n",
    "#### Examine the results:\n",
    "1. **From the test result plots:** We found that the different in mean between **price (plot 1) and horsepower (plot 2)** are not significant at the confidence level since the credible intervals are overlapped at 95% confident level.\n",
    "2. This prove the Central Limit Theorem.\n",
    "***"
   ]
  },
  {
   "cell_type": "code",
   "execution_count": null,
   "metadata": {},
   "outputs": [],
   "source": []
  }
 ],
 "metadata": {
  "kernelspec": {
   "display_name": "Python 3",
   "language": "python",
   "name": "python3"
  },
  "language_info": {
   "codemirror_mode": {
    "name": "ipython",
    "version": 3
   },
   "file_extension": ".py",
   "mimetype": "text/x-python",
   "name": "python",
   "nbconvert_exporter": "python",
   "pygments_lexer": "ipython3",
   "version": "3.7.5"
  }
 },
 "nbformat": 4,
 "nbformat_minor": 1
}
