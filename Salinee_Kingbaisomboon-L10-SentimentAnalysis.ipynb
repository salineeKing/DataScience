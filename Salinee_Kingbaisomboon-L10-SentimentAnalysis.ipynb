{
 "cells": [
  {
   "cell_type": "markdown",
   "metadata": {},
   "source": [
    "# Lesson 10 - Sentiment Analysis\n",
    "## Author - Salinee Kingbaisomboon\n",
    "### UW NetID: 1950831\n",
    "\n",
    "This assignment requires that you build a sentiment analysis classifier for a series of tweets.\n",
    "The data consists of a file \"twitter_data.csv\". The file contains 16,000 tweets with their respective score. The attributes are the sentences, and the score is either 4 (for positive) or 0 (for negative).\n",
    "\n",
    "Assignment Instructions\n",
    "1. Complete all questions below.\n",
    "2. Comment on the applicability of the model on future tweets.  "
   ]
  },
  {
   "cell_type": "code",
   "execution_count": 5,
   "metadata": {},
   "outputs": [],
   "source": [
    "#Imports\n",
    "import string\n",
    "import re\n",
    "# import nltk # Get No module named '_sqlite3' error on the Virtual Lab\n",
    "import numpy as np\n",
    "import pandas as pd\n",
    "import matplotlib.pyplot as plt\n",
    "\n",
    "from sklearn.feature_extraction.text import CountVectorizer\n",
    "from sklearn.feature_extraction.text import TfidfVectorizer\n",
    "from sklearn.linear_model import LogisticRegression\n",
    "from sklearn.metrics import precision_recall_fscore_support, confusion_matrix\n",
    "from sklearn.model_selection import train_test_split\n",
    "#from nltk.corpus import stopwords # Get No module named '_sqlite3' error on the Virtual Lab\n",
    "#from nltk.stem.wordnet import WordNetLemmatizer # Get No module named '_sqlite3' error on the Virtual Lab\n",
    "from scipy.sparse import coo_matrix\n",
    "\n",
    "import warnings\n",
    "\n",
    "warnings.filterwarnings(\"ignore\") # To suppress warning\n",
    "\n",
    "%matplotlib inline"
   ]
  },
  {
   "cell_type": "markdown",
   "metadata": {},
   "source": [
    "# Declare Functions used in this assignment"
   ]
  },
  {
   "cell_type": "code",
   "execution_count": 2,
   "metadata": {},
   "outputs": [],
   "source": [
    "# Create a function to clean the text\n",
    "def preprocess(text, list_of_steps):\n",
    "    \n",
    "    for step in list_of_steps:\n",
    "        if step == 'remove_non_ascii':\n",
    "            text = ''.join([x for x in text if ord(x) < 128])\n",
    "        elif step == 'lowercase':\n",
    "            text = text.lower()\n",
    "        elif step == 'remove_punctuation':\n",
    "            punct_exclude = set(string.punctuation)\n",
    "            text = ''.join(char for char in text if char not in punct_exclude)\n",
    "        elif step == 'remove_numbers':\n",
    "            text = re.sub(\"\\d+\", \"\", text)\n",
    "        elif step == 'strip_whitespace':\n",
    "            text = ' '.join(text.split())\n",
    "# Get No module named '_sqlite3' error on the Virtual Lab\n",
    "#         elif step == 'remove_stopwords':\n",
    "#             stops = stopwords.words('english')\n",
    "#             word_list = text.split(' ')\n",
    "#             text_words = [word for word in word_list if word not in stops]\n",
    "#             text = ' '.join(text_words)\n",
    "#         elif step == 'stem_words':\n",
    "#             lmtzr = WordNetLemmatizer()\n",
    "#             word_list = text.split(' ')\n",
    "#             stemmed_words = [lmtzr.lemmatize(word) for word in word_list]\n",
    "#             text = ' '.join(stemmed_words)\n",
    "    return text"
   ]
  },
  {
   "cell_type": "code",
   "execution_count": 3,
   "metadata": {},
   "outputs": [],
   "source": [
    "# Create a function to generate the word cloud data frame\n",
    "def generate_word_cloud(data, cutoff, sentiment):\n",
    "    # Filter the data sorce based on the sentiment (0 = positive, 1 = negative)\n",
    "    tweet_data = data[data.sentiment_label == sentiment].values.tolist()\n",
    "    clean_texts = data[data.sentiment_label == sentiment].clean_tweet\n",
    "    \n",
    "    # Create a document storage matrix\n",
    "    docs = {}\n",
    "    for ix, row in enumerate(clean_texts):\n",
    "        docs[ix] = row.split(' ')\n",
    "        \n",
    "    # We want to keep track of how many unique words there are:\n",
    "    num_nonzero = 0\n",
    "    vocab = set()\n",
    "    for word_list in docs.values():\n",
    "        unique_terms = set(word_list)    # all unique terms of this tweet\n",
    "        vocab.update(unique_terms)       # set union: add unique terms of this tweet\n",
    "        num_nonzero += len(unique_terms) # add count of unique terms in this tweet\n",
    "\n",
    "    doc_key_list = list(docs.keys())\n",
    "    \n",
    "    # Need to convert everything to a numpy array: (for quicker calculation)\n",
    "    doc_key_list = np.array(doc_key_list)\n",
    "    vocab = np.array(list(vocab))\n",
    "    \n",
    "    # We should keep track of how the vocab/term indices map to the matrix so that we can look them up later.\n",
    "    vocab_sorter = np.argsort(vocab)\n",
    "    \n",
    "    # Initialize our sparse matrix:\n",
    "    num_docs = len(doc_key_list)\n",
    "    vocab_size = len(vocab)\n",
    "    # A COO matrix is just a tuple of data, row indices, and column indices. Everything else is assumed to be zero.\n",
    "    data = np.empty(num_nonzero, dtype=np.intc)     # all non-zero\n",
    "    rows = np.empty(num_nonzero, dtype=np.intc)     # row index\n",
    "    cols = np.empty(num_nonzero, dtype=np.intc)     # column index\n",
    "    \n",
    "    ix = 0\n",
    "    print('Computing full term-document matrix (sparse), please wait!')\n",
    "    for doc_key, terms in docs.items():\n",
    "        # Find indices where elements should be inserted to maintain order\n",
    "        term_indices = vocab_sorter[np.searchsorted(vocab, terms, sorter=vocab_sorter)]\n",
    "\n",
    "        # count the unique terms of the document and get their vocabulary indices\n",
    "        uniq_indices, counts = np.unique(term_indices, return_counts=True)\n",
    "        n_vals = len(uniq_indices)  # = number of unique terms\n",
    "        ix_end = ix + n_vals # Add count to index\n",
    "\n",
    "        data[ix:ix_end] = counts                  # save the counts (term frequencies)\n",
    "        cols[ix:ix_end] = uniq_indices            # save the column index: index in \n",
    "        doc_ix = np.where(doc_key_list == doc_key)   # get the document index for the document name\n",
    "        rows[ix:ix_end] = np.repeat(doc_ix, n_vals)  # save it as repeated value\n",
    "\n",
    "        ix = ix_end  # resume with next document -> will add future data on the end.\n",
    "    \n",
    "    # Create the sparse matrix!\n",
    "    doc_term_mat = coo_matrix((data, (rows, cols)), shape=(num_docs, vocab_size), dtype=np.intc)\n",
    "    \n",
    "    # Trimming the Doc-term matrix\n",
    "    word_counts = doc_term_mat.sum(axis=0)\n",
    "    \n",
    "    # Look at how many words are above a specific cutoff\n",
    "    word_count_list = word_counts.tolist()[0]\n",
    "    \n",
    "    # Find which column indices are above cutoff\n",
    "    col_cutoff_ix = [ix for ix, count in enumerate(word_count_list) if count > cutoff]\n",
    "    \n",
    "    # Get the trimmed vocabulary\n",
    "    vocab_trimmed = np.array([vocab[x] for x in col_cutoff_ix])\n",
    "\n",
    "    # Re-do the vocab-sorter\n",
    "    vocab_sorter_trimmed = np.argsort(vocab_trimmed)\n",
    "    \n",
    "    # Trim the document-term matrix\n",
    "    doc_term_mat_trimmed = doc_term_mat.tocsc()[:,col_cutoff_ix]\n",
    "        \n",
    "    # Plot trimmed vocabulary frequency\n",
    "    trimmed_word_counts = doc_term_mat_trimmed.sum(axis=0)\n",
    "    trimmed_word_list = trimmed_word_counts.tolist()[0]\n",
    "    hist_breaks = np.arange(0, 500, 5)\n",
    "    plt.hist(trimmed_word_list, bins = hist_breaks)\n",
    "    plt.title('Histogram of trimmed word counts < 500')\n",
    "    plt.show()\n",
    "    \n",
    "    # Placeholder for return data frame\n",
    "    data_df = pd.DataFrame()\n",
    "  \n",
    "    # Find which tweets contain word:\n",
    "    appended_word = []\n",
    "    appended_word_count = []\n",
    "\n",
    "    # Look for how may indident this trimmed vocabulary appear on the tweet\n",
    "    for x in  vocab_sorter_trimmed:\n",
    "        doc_ix_with_word = []\n",
    "        word_of_interest = vocab_trimmed[vocab_sorter_trimmed[x]] # get the word\n",
    "        appended_word.append(word_of_interest)\n",
    "        vocab_interesting_ix = list(vocab).index(word_of_interest) # get index the word from vocabulary list\n",
    "        for ix, row in enumerate(tweet_data): # look into the tweet data\n",
    "            if word_of_interest in row[1]: # if found match\n",
    "                doc_ix_with_word.append(ix) # add indident index\n",
    "        appended_word_count.append(len(doc_ix_with_word)) # count the total index to get the number of occurance\n",
    "    \n",
    "    data_df['word'] = appended_word\n",
    "    data_df['word_count'] = appended_word_count \n",
    "    \n",
    "    print('Done!')\n",
    "    \n",
    "    return data_df"
   ]
  },
  {
   "cell_type": "markdown",
   "metadata": {},
   "source": [
    "# Process Data"
   ]
  },
  {
   "cell_type": "code",
   "execution_count": 6,
   "metadata": {},
   "outputs": [
    {
     "name": "stdout",
     "output_type": "stream",
     "text": [
      "   sentiment_label                                         tweet_text  \\\n",
      "0                1  @elephantbird Hey dear, Happy Friday to You  A...   \n",
      "1                1  Ughhh layin downnnn    Waiting for zeina to co...   \n",
      "2                0  @greeniebach I reckon he'll play, even if he's...   \n",
      "3                0              @vaLewee I know!  Saw it on the news!   \n",
      "4                0  very sad that http://www.fabchannel.com/ has c...   \n",
      "\n",
      "                                         clean_tweet  \n",
      "0  elephantbird hey dear happy friday to you alre...  \n",
      "1  ughhh layin downnnn waiting for zeina to cook ...  \n",
      "2  greeniebach i reckon hell play even if hes not...  \n",
      "3                  valewee i know saw it on the news  \n",
      "4  very sad that httpwwwfabchannelcom has closed ...  \n"
     ]
    },
    {
     "data": {
      "text/html": [
       "<div>\n",
       "<style scoped>\n",
       "    .dataframe tbody tr th:only-of-type {\n",
       "        vertical-align: middle;\n",
       "    }\n",
       "\n",
       "    .dataframe tbody tr th {\n",
       "        vertical-align: top;\n",
       "    }\n",
       "\n",
       "    .dataframe thead th {\n",
       "        text-align: right;\n",
       "    }\n",
       "</style>\n",
       "<table border=\"1\" class=\"dataframe\">\n",
       "  <thead>\n",
       "    <tr style=\"text-align: right;\">\n",
       "      <th></th>\n",
       "      <th>sentiment_label</th>\n",
       "    </tr>\n",
       "  </thead>\n",
       "  <tbody>\n",
       "    <tr>\n",
       "      <th>count</th>\n",
       "      <td>160000.000000</td>\n",
       "    </tr>\n",
       "    <tr>\n",
       "      <th>mean</th>\n",
       "      <td>0.500000</td>\n",
       "    </tr>\n",
       "    <tr>\n",
       "      <th>std</th>\n",
       "      <td>0.500002</td>\n",
       "    </tr>\n",
       "    <tr>\n",
       "      <th>min</th>\n",
       "      <td>0.000000</td>\n",
       "    </tr>\n",
       "    <tr>\n",
       "      <th>25%</th>\n",
       "      <td>0.000000</td>\n",
       "    </tr>\n",
       "    <tr>\n",
       "      <th>50%</th>\n",
       "      <td>0.500000</td>\n",
       "    </tr>\n",
       "    <tr>\n",
       "      <th>75%</th>\n",
       "      <td>1.000000</td>\n",
       "    </tr>\n",
       "    <tr>\n",
       "      <th>max</th>\n",
       "      <td>1.000000</td>\n",
       "    </tr>\n",
       "  </tbody>\n",
       "</table>\n",
       "</div>"
      ],
      "text/plain": [
       "       sentiment_label\n",
       "count    160000.000000\n",
       "mean          0.500000\n",
       "std           0.500002\n",
       "min           0.000000\n",
       "25%           0.000000\n",
       "50%           0.500000\n",
       "75%           1.000000\n",
       "max           1.000000"
      ]
     },
     "execution_count": 6,
     "metadata": {},
     "output_type": "execute_result"
    }
   ],
   "source": [
    "#Read files\n",
    "url = \"https://library.startlearninglabs.uw.edu/DATASCI410/Datasets/twitter_data.csv\"\n",
    "df = pd.read_csv(url, sep=\",\")\n",
    "df.columns = [\"sentiment_label\",\"tweet_text\"]\n",
    "\n",
    "# But sentiment is either '4' or '0'. We'll change that to '1' or '0' to indicate positive or negative sentiment.\n",
    "df.sentiment_label=df.sentiment_label.replace(4,1)\n",
    "    \n",
    "# Clean tweets\n",
    "steps = ['lowercase', 'remove_punctuation', 'remove_numbers', 'strip_whitespace']\n",
    "\n",
    "df['clean_tweet'] = df['tweet_text'].map(lambda s: preprocess(s, steps))\n",
    "\n",
    "# Check the Data Frame for first five rows\n",
    "print(df.head())\n",
    "\n",
    "# Check the Data Frame's statistics summary\n",
    "df.describe()"
   ]
  },
  {
   "cell_type": "markdown",
   "metadata": {},
   "source": [
    "Q1: Generate word cloud for positive sentiment."
   ]
  },
  {
   "cell_type": "code",
   "execution_count": 11,
   "metadata": {},
   "outputs": [
    {
     "name": "stdout",
     "output_type": "stream",
     "text": [
      "Computing full term-document matrix (sparse), please wait!\n"
     ]
    },
    {
     "data": {
      "image/png": "[encoded data removed]",
      "text/plain": [
       "<Figure size 432x288 with 1 Axes>"
      ]
     },
     "metadata": {
      "needs_background": "light"
     },
     "output_type": "display_data"
    },
    {
     "name": "stdout",
     "output_type": "stream",
     "text": [
      "Done!\n"
     ]
    },
    {
     "data": {
      "text/html": [
       "<div>\n",
       "<style scoped>\n",
       "    .dataframe tbody tr th:only-of-type {\n",
       "        vertical-align: middle;\n",
       "    }\n",
       "\n",
       "    .dataframe tbody tr th {\n",
       "        vertical-align: top;\n",
       "    }\n",
       "\n",
       "    .dataframe thead th {\n",
       "        text-align: right;\n",
       "    }\n",
       "</style>\n",
       "<table border=\"1\" class=\"dataframe\">\n",
       "  <thead>\n",
       "    <tr style=\"text-align: right;\">\n",
       "      <th></th>\n",
       "      <th>word</th>\n",
       "      <th>word_count</th>\n",
       "    </tr>\n",
       "  </thead>\n",
       "  <tbody>\n",
       "    <tr>\n",
       "      <th>0</th>\n",
       "      <td>fast</td>\n",
       "      <td>416</td>\n",
       "    </tr>\n",
       "    <tr>\n",
       "      <th>1</th>\n",
       "      <td>dont</td>\n",
       "      <td>1123</td>\n",
       "    </tr>\n",
       "    <tr>\n",
       "      <th>2</th>\n",
       "      <td>jonasbrothers</td>\n",
       "      <td>32</td>\n",
       "    </tr>\n",
       "    <tr>\n",
       "      <th>3</th>\n",
       "      <td>think</td>\n",
       "      <td>2555</td>\n",
       "    </tr>\n",
       "    <tr>\n",
       "      <th>4</th>\n",
       "      <td>shower</td>\n",
       "      <td>205</td>\n",
       "    </tr>\n",
       "  </tbody>\n",
       "</table>\n",
       "</div>"
      ],
      "text/plain": [
       "            word  word_count\n",
       "0           fast         416\n",
       "1           dont        1123\n",
       "2  jonasbrothers          32\n",
       "3          think        2555\n",
       "4         shower         205"
      ]
     },
     "execution_count": 11,
     "metadata": {},
     "output_type": "execute_result"
    }
   ],
   "source": [
    "# set cutoff = 50 since we'r targeting the popular word\n",
    "positive_word_cloud = generate_word_cloud(data=df, cutoff=50, sentiment=0) # sentiment = 0 for positive\n",
    "# Look for first 5 rows of the dataframe\n",
    "positive_word_cloud.head()"
   ]
  },
  {
   "cell_type": "markdown",
   "metadata": {},
   "source": [
    "Q2: Generate word cloud for negative sentiment."
   ]
  },
  {
   "cell_type": "code",
   "execution_count": 12,
   "metadata": {},
   "outputs": [
    {
     "name": "stdout",
     "output_type": "stream",
     "text": [
      "Computing full term-document matrix (sparse), please wait!\n"
     ]
    },
    {
     "data": {
      "image/png": "[encoded data removed]",
      "text/plain": [
       "<Figure size 432x288 with 1 Axes>"
      ]
     },
     "metadata": {
      "needs_background": "light"
     },
     "output_type": "display_data"
    },
    {
     "name": "stdout",
     "output_type": "stream",
     "text": [
      "Done!\n"
     ]
    },
    {
     "data": {
      "text/html": [
       "<div>\n",
       "<style scoped>\n",
       "    .dataframe tbody tr th:only-of-type {\n",
       "        vertical-align: middle;\n",
       "    }\n",
       "\n",
       "    .dataframe tbody tr th {\n",
       "        vertical-align: top;\n",
       "    }\n",
       "\n",
       "    .dataframe thead th {\n",
       "        text-align: right;\n",
       "    }\n",
       "</style>\n",
       "<table border=\"1\" class=\"dataframe\">\n",
       "  <thead>\n",
       "    <tr style=\"text-align: right;\">\n",
       "      <th></th>\n",
       "      <th>word</th>\n",
       "      <th>word_count</th>\n",
       "    </tr>\n",
       "  </thead>\n",
       "  <tbody>\n",
       "    <tr>\n",
       "      <th>0</th>\n",
       "      <td>first</td>\n",
       "      <td>803</td>\n",
       "    </tr>\n",
       "    <tr>\n",
       "      <th>1</th>\n",
       "      <td>easier</td>\n",
       "      <td>57</td>\n",
       "    </tr>\n",
       "    <tr>\n",
       "      <th>2</th>\n",
       "      <td>l</td>\n",
       "      <td>64622</td>\n",
       "    </tr>\n",
       "    <tr>\n",
       "      <th>3</th>\n",
       "      <td>thursday</td>\n",
       "      <td>49</td>\n",
       "    </tr>\n",
       "    <tr>\n",
       "      <th>4</th>\n",
       "      <td>cheers</td>\n",
       "      <td>56</td>\n",
       "    </tr>\n",
       "  </tbody>\n",
       "</table>\n",
       "</div>"
      ],
      "text/plain": [
       "       word  word_count\n",
       "0     first         803\n",
       "1    easier          57\n",
       "2         l       64622\n",
       "3  thursday          49\n",
       "4    cheers          56"
      ]
     },
     "execution_count": 12,
     "metadata": {},
     "output_type": "execute_result"
    }
   ],
   "source": [
    "# set cutoff = 50 since we'r targeting the popular word\n",
    "negative_word_cloud = generate_word_cloud(data=df, cutoff=50, sentiment=1) # sentiment = 1 for negative\n",
    "# Look for first 5 rows of the dataframe\n",
    "negative_word_cloud.head()"
   ]
  },
  {
   "cell_type": "markdown",
   "metadata": {},
   "source": [
    "Q3: Split data into 70% for training and 30% for testing."
   ]
  },
  {
   "cell_type": "code",
   "execution_count": 9,
   "metadata": {},
   "outputs": [],
   "source": [
    "# Declare the TFIDF vectorizer.\n",
    "vectorizer = TfidfVectorizer(sublinear_tf=True, max_df=0.5, max_features=6228, stop_words='english')\n",
    "\n",
    "# Fit the vectorizer over the dataset\n",
    "clean_texts = df['clean_tweet']\n",
    "tf_idf_tweets = vectorizer.fit_transform(clean_texts)"
   ]
  },
  {
   "cell_type": "code",
   "execution_count": 10,
   "metadata": {},
   "outputs": [
    {
     "name": "stdout",
     "output_type": "stream",
     "text": [
      "Splitting into train-test. Please wait!\n",
      "\u001b[1m\u001b[4m30% Testing Data Set: \u001b[0m\n",
      "48000\n",
      "Done!\n"
     ]
    }
   ],
   "source": [
    "tweet_data = df.values.tolist()\n",
    "\n",
    "print('Splitting into train-test. Please wait!')\n",
    "\n",
    "# Get number of 30% training from the total tweet\n",
    "n_30_percent_testing = int(len(tweet_data)*0.3)\n",
    "\n",
    "print(f'\\033[1m\\033[4m30% Testing Data Set: \\033[0m')\n",
    "print(n_30_percent_testing)\n",
    "\n",
    "y_targets = np.array([y[0] for y in tweet_data])\n",
    "\n",
    "X_train, X_test, y_train, y_test = train_test_split(tf_idf_tweets,\n",
    "                                                    y_targets,\n",
    "                                                    test_size=n_30_percent_testing,\n",
    "                                                    random_state=42)\n",
    "print('Done!')"
   ]
  },
  {
   "cell_type": "markdown",
   "metadata": {},
   "source": [
    "Q4: Build a classifier that classifies the sentiment of a sentence."
   ]
  },
  {
   "cell_type": "code",
   "execution_count": 11,
   "metadata": {},
   "outputs": [
    {
     "name": "stdout",
     "output_type": "stream",
     "text": [
      "Starting a standard Logistic Model training!\n",
      "Done.\n"
     ]
    }
   ],
   "source": [
    "print('Starting a standard Logistic Model training!')\n",
    "lr = LogisticRegression()\n",
    "lr.fit(X_train, y_train)\n",
    "print('Done.')"
   ]
  },
  {
   "cell_type": "markdown",
   "metadata": {},
   "source": [
    "Q5: What is the accuracy of your model when applied to testing data?"
   ]
  },
  {
   "cell_type": "code",
   "execution_count": 12,
   "metadata": {},
   "outputs": [
    {
     "name": "stdout",
     "output_type": "stream",
     "text": [
      "Train accuracy: 0.7812767857142857\n",
      "Test accuracy: 0.7554375\n"
     ]
    }
   ],
   "source": [
    "## Compute results on the train and test set\n",
    "train_probs = lr.predict_proba(X_train)\n",
    "train_results = np.argmax(train_probs, axis=1)\n",
    "\n",
    "test_probs = lr.predict_proba(X_test)\n",
    "test_results = np.argmax(test_probs, axis=1)\n",
    "\n",
    "# Compute accuracies\n",
    "train_logical_correct = [pred == actual for pred, actual in zip(train_results, y_train)]\n",
    "train_acc = np.mean(train_logical_correct)\n",
    "\n",
    "test_logical_correct = [pred == actual for pred, actual in zip(test_results, y_test)]\n",
    "test_acc = np.mean(test_logical_correct)\n",
    "\n",
    "print('Train accuracy: {}'.format(train_acc))\n",
    "print('Test accuracy: {}'.format(test_acc))"
   ]
  },
  {
   "cell_type": "code",
   "execution_count": 14,
   "metadata": {},
   "outputs": [
    {
     "name": "stdout",
     "output_type": "stream",
     "text": [
      "Confusion Matrix:\n",
      "[[17488  6556]\n",
      " [ 5183 18773]]\n",
      "===================================\n",
      "             Class 1   -   Class 0\n",
      "Precision: [0.77138194 0.74116625]\n",
      "Recall   : [0.72733322 0.78364502]\n",
      "F1       : [0.74871026 0.76181394]\n",
      "Support  : [24044 23956]\n"
     ]
    }
   ],
   "source": [
    "# Computes the precision, recall and Fscore of the model for positive and negative tweets\n",
    "precision, recall, f1, support = precision_recall_fscore_support(y_test, test_results)\n",
    "\n",
    "# Get the parts of the confusion matrix\n",
    "tn, fp, fn, tp = confusion_matrix(y_test, test_results).ravel()\n",
    "\n",
    "# Print results\n",
    "print('Confusion Matrix:')\n",
    "print(confusion_matrix(y_test, test_results))\n",
    "print('='*35)\n",
    "print('             Class 1   -   Class 0')\n",
    "print('Precision: {}'.format(precision))\n",
    "print('Recall   : {}'.format(recall))\n",
    "print('F1       : {}'.format(f1))\n",
    "print('Support  : {}'.format(support))"
   ]
  },
  {
   "cell_type": "markdown",
   "metadata": {},
   "source": [
    "Q6: What conclusions can you draw from the model?"
   ]
  },
  {
   "cell_type": "markdown",
   "metadata": {},
   "source": [
    "#### Examine the results:\n",
    "1. From **Confusion Matrix**: \n",
    "    - **True Positive = 18,773** and **True Negative = 17,488**\n",
    "    - **False Negative (Type II error) = 5,183** and **False Positive (Type I error) = 6,556** \n",
    "2. **Precision** when we predict if this word has either positive or negative sentiment are almost the same (+70%) which mean when we predict 100 times, we will get it correct 70 times.\n",
    "3. **Recall** for both class 1 (negative) and class 0 (positive) are pretty good which mean we have the useful proportion of both cases about +70% amoung the overall data.\n",
    "4. **F1** for both class 1 (negative) and class 0 (positive) are pretty good and our data sorce has pretty ok even class distribution for both cases."
   ]
  },
  {
   "cell_type": "markdown",
   "metadata": {},
   "source": [
    "Q7: Is it better to have a model per source?"
   ]
  },
  {
   "cell_type": "markdown",
   "metadata": {},
   "source": [
    "Different data sources have different characteristic and bias. For example, if this model is for **Classification**, different data source might not yield the same accuracy result. Let say, in our assignment, our data source is from **tweet** which can have a lot of **typos** and special meaning text such as **emoji**. The model to train this will be different if the data source came from a **textbook** which has less typos and prone to use more **latin words**. The model which is work very well on the tweet might not work well on the data source from the textbook since the nature of the language are different."
   ]
  },
  {
   "cell_type": "code",
   "execution_count": null,
   "metadata": {},
   "outputs": [],
   "source": []
  }
 ],
 "metadata": {
  "kernelspec": {
   "display_name": "Python 3",
   "language": "python",
   "name": "python3"
  },
  "language_info": {
   "codemirror_mode": {
    "name": "ipython",
    "version": 3
   },
   "file_extension": ".py",
   "mimetype": "text/x-python",
   "name": "python",
   "nbconvert_exporter": "python",
   "pygments_lexer": "ipython3",
   "version": "3.7.5"
  }
 },
 "nbformat": 4,
 "nbformat_minor": 2
}
