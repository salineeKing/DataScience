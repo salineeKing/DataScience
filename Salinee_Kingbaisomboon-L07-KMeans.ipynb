{
 "cells": [
  {
   "cell_type": "markdown",
   "metadata": {},
   "source": [
    "# Lesson 7 Assignment - KMeans\n",
    "## Author - Salinee Kingbaisomboon\n",
    "### UW NetID: 1950831"
   ]
  },
  {
   "cell_type": "markdown",
   "metadata": {},
   "source": [
    "### Instructions\n",
    "1. Short narrative on the data preparation for your chosen data set for Milestone 3, which in most cases should be the same as Milestone 2.\n",
    "    - number of observations and attributes\n",
    "    - datatype, distribution, and a comment on each attribute\n",
    "    - Source citation for your data set\n",
    "    - Ask at least 1 yes-no or binary-choice question (Does it...? Is it...?)\n",
    "    - Ask at least 1 non-binary question (What is...? How many...? When does...?)\n",
    "2. Perform a K-Means with sklearn using some or all of your attributes.\n",
    "3. Include at least one categorical column and one numeric attribute.\n",
    "4. Normalize the attributes prior to K-Means.\n",
    "5. Add the cluster label to the dataset.\n",
    "6. Add comments to explain the code blocks.\n",
    "7. Add a summary comment block that describes the cluster labels."
   ]
  },
  {
   "cell_type": "code",
   "execution_count": 9,
   "metadata": {},
   "outputs": [],
   "source": [
    "# Import libraries\n",
    "import numpy as np\n",
    "import pandas as pd\n",
    "import matplotlib.pyplot as plt\n",
    "import sklearn.preprocessing as sk\n",
    "from sklearn.cluster import KMeans\n",
    "\n",
    "import warnings\n",
    "\n",
    "warnings.filterwarnings(\"ignore\") # To suppress warning for violin plots when python version is < 3.7\n",
    "\n",
    "%matplotlib inline"
   ]
  },
  {
   "cell_type": "code",
   "execution_count": 10,
   "metadata": {
    "scrolled": true
   },
   "outputs": [],
   "source": [
    "# Adult Data Set\n",
    "url = \"https://archive.ics.uci.edu/ml/machine-learning-databases/adult/adult.data\"\n",
    "Adults = pd.read_csv(url, header=None)\n",
    "\n",
    "# Find proper column names here:\n",
    "# https://archive.ics.uci.edu/ml/machine-learning-databases/adult/adult.names\n",
    "Adults.columns = ['age', 'workclass', 'fnlwgt', 'education', 'education-num', \n",
    "               'marital-status', 'occupation', 'relationship', 'race', 'sex', 'capital-gain',\n",
    "               'capital-loss', 'hours-per-week', 'native-country', 'income']"
   ]
  },
  {
   "cell_type": "markdown",
   "metadata": {},
   "source": [
    "# Declare Functions"
   ]
  },
  {
   "cell_type": "code",
   "execution_count": 11,
   "metadata": {},
   "outputs": [],
   "source": [
    "# Function to replace missing numeric values\n",
    "def cleanData(x, col):\n",
    "    # We determine the locations of the question marks\n",
    "    QuestionMark = x.loc[:, col].astype(str) == \"?\"\n",
    "    # If there are question marks\n",
    "    if sum(QuestionMark) > 0:\n",
    "        # Convert the current column to numeric data including nans\n",
    "        x.loc[:, col] = pd.to_numeric(x, errors='coerce')\n",
    "        # Get the Nan array from the current column\n",
    "        HasNan = np.isnan(x.loc[:, col]) \n",
    "        # Calculate the Median for current column without Nan\n",
    "        Median = np.nanmedian(x.loc[:, col])\n",
    "        # Replace the missing value with Median\n",
    "        x.loc[HasNan, col] = Median\n",
    "    return x.loc[:, col]"
   ]
  },
  {
   "cell_type": "code",
   "execution_count": 12,
   "metadata": {},
   "outputs": [],
   "source": [
    "# Function to bin the data\n",
    "def bin(x, b): # x = data array, b = boundaries array\n",
    "    nb = len(b)\n",
    "    N = len(x)\n",
    "    y = np.empty(N, float) # empty float array to store the bin numbers (output)\n",
    "    \n",
    "    for i in range(1, nb): # repeat for each pair of bin boundaries\n",
    "        y[(x >= b[i-1])&(x < b[i])] = i\n",
    "    \n",
    "    y[x == b[-1]] = nb - 1 # ensure that the borderline cases are also binned appropriately \n",
    "    # (Negative numbers mean that you count from the right instead of the left. So, list[-1] refers to the last element)\n",
    "    return y"
   ]
  },
  {
   "cell_type": "code",
   "execution_count": 13,
   "metadata": {
    "scrolled": true
   },
   "outputs": [],
   "source": [
    "# Normalize numeric values using Z-Normalize\n",
    "for col in ['fnlwgt', 'capital-gain', 'capital-loss']:\n",
    "    # Replace missing values with Median for current column without Nan\n",
    "    Adults.loc[:, col] = cleanData(Adults, col).astype(float)\n",
    "    X = pd.DataFrame(Adults.loc[:,col])\n",
    "    # Normalization numeric data using Z-Normalize by scikit library\n",
    "    standardization_scale = sk.StandardScaler().fit(X)\n",
    "    z = standardization_scale.transform(X)\n",
    "    Adults.loc[:,col] = z"
   ]
  },
  {
   "cell_type": "markdown",
   "metadata": {},
   "source": [
    "# Code"
   ]
  },
  {
   "cell_type": "code",
   "execution_count": 14,
   "metadata": {},
   "outputs": [
    {
     "data": {
      "image/png": "[encoded data removed]",
      "text/plain": [
       "<Figure size 432x288 with 1 Axes>"
      ]
     },
     "metadata": {
      "needs_background": "light"
     },
     "output_type": "display_data"
    }
   ],
   "source": [
    "#Bin numeric values using Equal-width Binning\n",
    "NB = 5 # number of bins\n",
    "\n",
    "for col in ['age', 'hours-per-week']:\n",
    "    # Replace missing values with Median for current column without Nan\n",
    "    Adults.loc[:, col] = cleanData(Adults, col)\n",
    "    # To obtaining the boundaries of the bins\n",
    "    bounds = np.linspace(np.min(Adults.loc[:, col]), np.max(Adults.loc[:, col]), NB + 1) \n",
    "    # Get the bin data\n",
    "    bx = bin(Adults.loc[:, col].values, bounds)\n",
    "    Adults.loc[:, col] = bx\n",
    "    \n",
    "# Impute missing categories\n",
    "# Trim string (some daata has ? with spaces)\n",
    "Adults.replace('(^\\s+|\\s+$)', '', regex=True, inplace=True)\n",
    "    \n",
    "MissingValue = Adults.loc[:, \"workclass\"] == \"?\"\n",
    "Adults.loc[MissingValue, \"workclass\"] = \"Private\"\n",
    "\n",
    "MissingValue = Adults.loc[:, \"occupation\"] == \"?\"\n",
    "Adults.loc[MissingValue, \"occupation\"] = \"Other-service\"\n",
    "\n",
    "MissingValue = Adults.loc[:, \"native-country\"] == \"?\"\n",
    "Adults.loc[MissingValue, \"native-country\"] = \"Unknown\"\n",
    "\n",
    "# Decode education-num column (categorical data)\n",
    "Adults.loc[:,'education-num'] = Adults.loc[:,'education-num'].astype(str)\n",
    "# Get the distinct list of existing education-num values\n",
    "educationNumList = np.sort(Adults.loc[:, 'education-num'].unique())\n",
    "# Dictionary to decode Categorical data\n",
    "educationDict = {\"1\": \"Preschool\", \"2\": \"1st-4th\",\"3\": \"5th-6th\",\"4\": \"7th-8th\", \"5\": \"9th\", \"6\": \"10th\",\"7\": \"11th\",\"8\": \"12th\",\"9\": \"HS-grad\",\"10\": \"Some-college\", \"11\": \"Assoc-voc\", \"12\": \"Assoc-acdml\",\"13\": \"Bachelors\", \"14\": \"Masters\",\"15\": \"Prof-school\", \"16\": \"Doctorate\"}\n",
    "\n",
    "# Loop through all the Categorical data of education-num column \n",
    "for num in educationNumList:\n",
    "    Replace = Adults.loc[:, 'education-num'] == num\n",
    "    # Decode\n",
    "    Adults.loc[Replace, 'education-num'] = educationDict.get(num, \"\")\n",
    "\n",
    "# One-hot encode categorical data\n",
    "Adults.loc[:, \"Female\"] = (Adults.loc[:, \"sex\"] == \"Female\").astype(int)\n",
    "Adults.loc[:, \"Male\"] = (Adults.loc[:, \"sex\"] == \"Male\").astype(int)\n",
    "Adults.loc[:, \"income<=50K\"] = (Adults.loc[:, \"income\"] == \"<=50K\").astype(int)\n",
    "Adults.loc[:, \"income>50K\"] = (Adults.loc[:, \"income\"] == \">50K\").astype(int)\n",
    "    \n",
    "# Remove obsolete column\n",
    "Adults = Adults.drop(\"education\", axis=1)\n",
    "Adults = Adults.drop(\"sex\", axis=1)\n",
    "Adults = Adults.drop(\"income\", axis=1)"
   ]
  },
  {
   "cell_type": "markdown",
   "metadata": {},
   "source": [
    "***\n",
    "**Summary:** \n",
    "1. There are 32, 561 observations and 16 attributes on this data set\n",
    "2. After run Adults.dtypes, and plot histrogram (to observed the distribution) for each attributes\n",
    "    - float64: age, fnlwgt, capital-gain, capital-loss, hours-per-week\n",
    "    - object: workclass, education-num, marital-status, occupation, relationship, race, native-country\n",
    "    - int64: Female, Male, income<=50K, income>50K\n",
    "    - All of the attribuyes are skewed distribution.\n",
    "3. Is the adult male or female per the particular correspondent's record? (look at Female or Male to check which one has value = 1)\n",
    "4. What is the native country per the particular correspondent's record? (look at native-country to check the value)\n",
    "***"
   ]
  },
  {
   "cell_type": "code",
   "execution_count": null,
   "metadata": {},
   "outputs": [],
   "source": [
    "# Perform K-Means with sklearn using fnlwgt & capital-gain attributes\n",
    "# Note: these two attributes have been normalized using Z-Normalize from above script\n",
    "k = 5\n",
    "X = pd.DataFrame(Adults,columns=['fnlwgt', 'capital-gain']) # generated a new data frame for k-means\n",
    "kmeans = KMeans(n_clusters=k).fit(X)\n",
    "Labels = kmeans.labels_ # get Labels of each point\n",
    "ClusterCentroids = kmeans.cluster_centers_ # get coordinates of cluster centers\n",
    "\n",
    "# Add the cluster label to the dataset\n",
    "Adults.loc[:, \"cluster_label_fnlwgt_capital-gain\"] = Labels\n",
    "\n",
    "# Plot scatter between fnlwgt(x-axis) and capital-gain (y-axis)\n",
    "plt.scatter(X.loc[:, 'fnlwgt'], X.loc[:, 'capital-gain'], c=kmeans.labels_.astype(float))\n",
    "# Plot Centroids\n",
    "plt.scatter(ClusterCentroids[:, 0], ClusterCentroids[:, 1], c='red')\n",
    "plt.xlabel('fnlwgt')\n",
    "plt.ylabel('capital-gain')\n",
    "plt.show()"
   ]
  },
  {
   "cell_type": "code",
   "execution_count": null,
   "metadata": {},
   "outputs": [],
   "source": []
  }
 ],
 "metadata": {
  "kernelspec": {
   "display_name": "Python 3",
   "language": "python",
   "name": "python3"
  },
  "language_info": {
   "codemirror_mode": {
    "name": "ipython",
    "version": 3
   },
   "file_extension": ".py",
   "mimetype": "text/x-python",
   "name": "python",
   "nbconvert_exporter": "python",
   "pygments_lexer": "ipython3",
   "version": "3.7.6"
  }
 },
 "nbformat": 4,
 "nbformat_minor": 2
}
